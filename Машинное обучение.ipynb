{
 "cells": [
  {
   "cell_type": "markdown",
   "id": "4deb7312",
   "metadata": {},
   "source": [
    "# Машинное обучение"
   ]
  },
  {
   "cell_type": "markdown",
   "id": "774a4717",
   "metadata": {},
   "source": [
    "Собрав и проанализировав данные по различным количественным и качественным признакам: количество комнат в квартире, ветка метро, общая площадь квартиры и другим, - мы попробуем предсказать цены квартир на 1-7 комнатные квартиры в Москве. Для этого обучим несколько моделей: линейную регрессию, бэггинг и случайный лес, - чтобы сравнить качество моделей и выявить лучшую. В качестве метрики качества была выбрана MAE, так как при визуализации данных наблюдали большое количество выбросов. А метрика MAE менее чувствительна к выбросам."
   ]
  },
  {
   "cell_type": "code",
   "execution_count": 1,
   "id": "658e5b02",
   "metadata": {},
   "outputs": [],
   "source": [
    "import matplotlib.pyplot as plt\n",
    "import seaborn as sns\n",
    "import pandas as pd\n",
    "import numpy as np\n",
    "import warnings"
   ]
  },
  {
   "cell_type": "code",
   "execution_count": 2,
   "id": "567df5c1",
   "metadata": {},
   "outputs": [],
   "source": [
    "warnings.filterwarnings(\"ignore\")\n",
    "sns.set_theme(style=\"whitegrid\", palette=\"muted\")\n",
    "plt.rcParams['figure.figsize'] = (12, 6)"
   ]
  },
  {
   "cell_type": "code",
   "execution_count": 3,
   "id": "67b4d26a",
   "metadata": {},
   "outputs": [
    {
     "data": {
      "text/html": [
       "<div>\n",
       "<style scoped>\n",
       "    .dataframe tbody tr th:only-of-type {\n",
       "        vertical-align: middle;\n",
       "    }\n",
       "\n",
       "    .dataframe tbody tr th {\n",
       "        vertical-align: top;\n",
       "    }\n",
       "\n",
       "    .dataframe thead th {\n",
       "        text-align: right;\n",
       "    }\n",
       "</style>\n",
       "<table border=\"1\" class=\"dataframe\">\n",
       "  <thead>\n",
       "    <tr style=\"text-align: right;\">\n",
       "      <th></th>\n",
       "      <th>Number of Rooms</th>\n",
       "      <th>Square</th>\n",
       "      <th>Current Floor</th>\n",
       "      <th>Total Floors</th>\n",
       "      <th>Price</th>\n",
       "      <th>Requisites Checked</th>\n",
       "      <th>Auction</th>\n",
       "      <th>Коричневая</th>\n",
       "      <th>Голубая</th>\n",
       "      <th>Красная</th>\n",
       "      <th>...</th>\n",
       "      <th>Metro_Шоссе Энтузиастов</th>\n",
       "      <th>Metro_Щукинская</th>\n",
       "      <th>Metro_Щёлковская</th>\n",
       "      <th>Metro_Электрозаводская</th>\n",
       "      <th>Metro_Юго-Восточная</th>\n",
       "      <th>Metro_Юго-Западная</th>\n",
       "      <th>Metro_Южная</th>\n",
       "      <th>Metro_Ясенево</th>\n",
       "      <th>Metro_р-н Северный</th>\n",
       "      <th>Metro_р-н Южное Бутово</th>\n",
       "    </tr>\n",
       "  </thead>\n",
       "  <tbody>\n",
       "    <tr>\n",
       "      <th>0</th>\n",
       "      <td>4</td>\n",
       "      <td>138.0</td>\n",
       "      <td>4</td>\n",
       "      <td>59</td>\n",
       "      <td>74000000</td>\n",
       "      <td>1</td>\n",
       "      <td>0</td>\n",
       "      <td>0</td>\n",
       "      <td>0</td>\n",
       "      <td>0</td>\n",
       "      <td>...</td>\n",
       "      <td>0</td>\n",
       "      <td>0</td>\n",
       "      <td>0</td>\n",
       "      <td>0</td>\n",
       "      <td>0</td>\n",
       "      <td>0</td>\n",
       "      <td>0</td>\n",
       "      <td>0</td>\n",
       "      <td>0</td>\n",
       "      <td>0</td>\n",
       "    </tr>\n",
       "    <tr>\n",
       "      <th>1</th>\n",
       "      <td>2</td>\n",
       "      <td>37.1</td>\n",
       "      <td>3</td>\n",
       "      <td>9</td>\n",
       "      <td>13900000</td>\n",
       "      <td>0</td>\n",
       "      <td>0</td>\n",
       "      <td>0</td>\n",
       "      <td>0</td>\n",
       "      <td>0</td>\n",
       "      <td>...</td>\n",
       "      <td>0</td>\n",
       "      <td>0</td>\n",
       "      <td>0</td>\n",
       "      <td>0</td>\n",
       "      <td>0</td>\n",
       "      <td>0</td>\n",
       "      <td>0</td>\n",
       "      <td>0</td>\n",
       "      <td>0</td>\n",
       "      <td>0</td>\n",
       "    </tr>\n",
       "    <tr>\n",
       "      <th>2</th>\n",
       "      <td>4</td>\n",
       "      <td>132.0</td>\n",
       "      <td>5</td>\n",
       "      <td>59</td>\n",
       "      <td>75000000</td>\n",
       "      <td>1</td>\n",
       "      <td>0</td>\n",
       "      <td>0</td>\n",
       "      <td>0</td>\n",
       "      <td>0</td>\n",
       "      <td>...</td>\n",
       "      <td>0</td>\n",
       "      <td>0</td>\n",
       "      <td>0</td>\n",
       "      <td>0</td>\n",
       "      <td>0</td>\n",
       "      <td>0</td>\n",
       "      <td>0</td>\n",
       "      <td>0</td>\n",
       "      <td>0</td>\n",
       "      <td>0</td>\n",
       "    </tr>\n",
       "    <tr>\n",
       "      <th>3</th>\n",
       "      <td>2</td>\n",
       "      <td>38.0</td>\n",
       "      <td>6</td>\n",
       "      <td>8</td>\n",
       "      <td>13400000</td>\n",
       "      <td>0</td>\n",
       "      <td>0</td>\n",
       "      <td>0</td>\n",
       "      <td>0</td>\n",
       "      <td>0</td>\n",
       "      <td>...</td>\n",
       "      <td>0</td>\n",
       "      <td>0</td>\n",
       "      <td>0</td>\n",
       "      <td>0</td>\n",
       "      <td>0</td>\n",
       "      <td>0</td>\n",
       "      <td>0</td>\n",
       "      <td>0</td>\n",
       "      <td>0</td>\n",
       "      <td>0</td>\n",
       "    </tr>\n",
       "    <tr>\n",
       "      <th>4</th>\n",
       "      <td>2</td>\n",
       "      <td>84.0</td>\n",
       "      <td>5</td>\n",
       "      <td>31</td>\n",
       "      <td>35950000</td>\n",
       "      <td>0</td>\n",
       "      <td>0</td>\n",
       "      <td>0</td>\n",
       "      <td>0</td>\n",
       "      <td>0</td>\n",
       "      <td>...</td>\n",
       "      <td>0</td>\n",
       "      <td>0</td>\n",
       "      <td>0</td>\n",
       "      <td>0</td>\n",
       "      <td>0</td>\n",
       "      <td>0</td>\n",
       "      <td>0</td>\n",
       "      <td>0</td>\n",
       "      <td>0</td>\n",
       "      <td>0</td>\n",
       "    </tr>\n",
       "    <tr>\n",
       "      <th>...</th>\n",
       "      <td>...</td>\n",
       "      <td>...</td>\n",
       "      <td>...</td>\n",
       "      <td>...</td>\n",
       "      <td>...</td>\n",
       "      <td>...</td>\n",
       "      <td>...</td>\n",
       "      <td>...</td>\n",
       "      <td>...</td>\n",
       "      <td>...</td>\n",
       "      <td>...</td>\n",
       "      <td>...</td>\n",
       "      <td>...</td>\n",
       "      <td>...</td>\n",
       "      <td>...</td>\n",
       "      <td>...</td>\n",
       "      <td>...</td>\n",
       "      <td>...</td>\n",
       "      <td>...</td>\n",
       "      <td>...</td>\n",
       "      <td>...</td>\n",
       "    </tr>\n",
       "    <tr>\n",
       "      <th>973</th>\n",
       "      <td>1</td>\n",
       "      <td>34.1</td>\n",
       "      <td>8</td>\n",
       "      <td>9</td>\n",
       "      <td>9000000</td>\n",
       "      <td>0</td>\n",
       "      <td>0</td>\n",
       "      <td>0</td>\n",
       "      <td>0</td>\n",
       "      <td>0</td>\n",
       "      <td>...</td>\n",
       "      <td>0</td>\n",
       "      <td>0</td>\n",
       "      <td>0</td>\n",
       "      <td>0</td>\n",
       "      <td>0</td>\n",
       "      <td>0</td>\n",
       "      <td>0</td>\n",
       "      <td>0</td>\n",
       "      <td>0</td>\n",
       "      <td>0</td>\n",
       "    </tr>\n",
       "    <tr>\n",
       "      <th>974</th>\n",
       "      <td>3</td>\n",
       "      <td>64.0</td>\n",
       "      <td>14</td>\n",
       "      <td>14</td>\n",
       "      <td>14300000</td>\n",
       "      <td>0</td>\n",
       "      <td>0</td>\n",
       "      <td>0</td>\n",
       "      <td>0</td>\n",
       "      <td>0</td>\n",
       "      <td>...</td>\n",
       "      <td>0</td>\n",
       "      <td>0</td>\n",
       "      <td>0</td>\n",
       "      <td>0</td>\n",
       "      <td>0</td>\n",
       "      <td>0</td>\n",
       "      <td>0</td>\n",
       "      <td>0</td>\n",
       "      <td>0</td>\n",
       "      <td>0</td>\n",
       "    </tr>\n",
       "    <tr>\n",
       "      <th>975</th>\n",
       "      <td>1</td>\n",
       "      <td>31.0</td>\n",
       "      <td>3</td>\n",
       "      <td>9</td>\n",
       "      <td>8550000</td>\n",
       "      <td>1</td>\n",
       "      <td>0</td>\n",
       "      <td>0</td>\n",
       "      <td>0</td>\n",
       "      <td>0</td>\n",
       "      <td>...</td>\n",
       "      <td>0</td>\n",
       "      <td>0</td>\n",
       "      <td>0</td>\n",
       "      <td>0</td>\n",
       "      <td>0</td>\n",
       "      <td>0</td>\n",
       "      <td>0</td>\n",
       "      <td>0</td>\n",
       "      <td>0</td>\n",
       "      <td>0</td>\n",
       "    </tr>\n",
       "    <tr>\n",
       "      <th>976</th>\n",
       "      <td>1</td>\n",
       "      <td>33.0</td>\n",
       "      <td>4</td>\n",
       "      <td>5</td>\n",
       "      <td>10500000</td>\n",
       "      <td>0</td>\n",
       "      <td>0</td>\n",
       "      <td>0</td>\n",
       "      <td>0</td>\n",
       "      <td>0</td>\n",
       "      <td>...</td>\n",
       "      <td>0</td>\n",
       "      <td>0</td>\n",
       "      <td>0</td>\n",
       "      <td>0</td>\n",
       "      <td>0</td>\n",
       "      <td>0</td>\n",
       "      <td>0</td>\n",
       "      <td>0</td>\n",
       "      <td>0</td>\n",
       "      <td>0</td>\n",
       "    </tr>\n",
       "    <tr>\n",
       "      <th>977</th>\n",
       "      <td>1</td>\n",
       "      <td>33.0</td>\n",
       "      <td>1</td>\n",
       "      <td>9</td>\n",
       "      <td>12500000</td>\n",
       "      <td>0</td>\n",
       "      <td>0</td>\n",
       "      <td>0</td>\n",
       "      <td>0</td>\n",
       "      <td>0</td>\n",
       "      <td>...</td>\n",
       "      <td>0</td>\n",
       "      <td>0</td>\n",
       "      <td>0</td>\n",
       "      <td>0</td>\n",
       "      <td>0</td>\n",
       "      <td>0</td>\n",
       "      <td>0</td>\n",
       "      <td>0</td>\n",
       "      <td>0</td>\n",
       "      <td>0</td>\n",
       "    </tr>\n",
       "  </tbody>\n",
       "</table>\n",
       "<p>978 rows × 221 columns</p>\n",
       "</div>"
      ],
      "text/plain": [
       "      Number of Rooms   Square   Current Floor   Total Floors     Price  \\\n",
       "0                   4    138.0               4             59  74000000   \n",
       "1                   2     37.1               3              9  13900000   \n",
       "2                   4    132.0               5             59  75000000   \n",
       "3                   2     38.0               6              8  13400000   \n",
       "4                   2     84.0               5             31  35950000   \n",
       "..                ...      ...             ...            ...       ...   \n",
       "973                 1     34.1               8              9   9000000   \n",
       "974                 3     64.0              14             14  14300000   \n",
       "975                 1     31.0               3              9   8550000   \n",
       "976                 1     33.0               4              5  10500000   \n",
       "977                 1     33.0               1              9  12500000   \n",
       "\n",
       "     Requisites Checked  Auction  Коричневая  Голубая  Красная  ...  \\\n",
       "0                     1        0           0        0        0  ...   \n",
       "1                     0        0           0        0        0  ...   \n",
       "2                     1        0           0        0        0  ...   \n",
       "3                     0        0           0        0        0  ...   \n",
       "4                     0        0           0        0        0  ...   \n",
       "..                  ...      ...         ...      ...      ...  ...   \n",
       "973                   0        0           0        0        0  ...   \n",
       "974                   0        0           0        0        0  ...   \n",
       "975                   1        0           0        0        0  ...   \n",
       "976                   0        0           0        0        0  ...   \n",
       "977                   0        0           0        0        0  ...   \n",
       "\n",
       "     Metro_Шоссе Энтузиастов  Metro_Щукинская  Metro_Щёлковская  \\\n",
       "0                          0                0                 0   \n",
       "1                          0                0                 0   \n",
       "2                          0                0                 0   \n",
       "3                          0                0                 0   \n",
       "4                          0                0                 0   \n",
       "..                       ...              ...               ...   \n",
       "973                        0                0                 0   \n",
       "974                        0                0                 0   \n",
       "975                        0                0                 0   \n",
       "976                        0                0                 0   \n",
       "977                        0                0                 0   \n",
       "\n",
       "     Metro_Электрозаводская  Metro_Юго-Восточная  Metro_Юго-Западная  \\\n",
       "0                         0                    0                   0   \n",
       "1                         0                    0                   0   \n",
       "2                         0                    0                   0   \n",
       "3                         0                    0                   0   \n",
       "4                         0                    0                   0   \n",
       "..                      ...                  ...                 ...   \n",
       "973                       0                    0                   0   \n",
       "974                       0                    0                   0   \n",
       "975                       0                    0                   0   \n",
       "976                       0                    0                   0   \n",
       "977                       0                    0                   0   \n",
       "\n",
       "     Metro_Южная  Metro_Ясенево  Metro_р-н Северный  Metro_р-н Южное Бутово  \n",
       "0              0              0                   0                       0  \n",
       "1              0              0                   0                       0  \n",
       "2              0              0                   0                       0  \n",
       "3              0              0                   0                       0  \n",
       "4              0              0                   0                       0  \n",
       "..           ...            ...                 ...                     ...  \n",
       "973            0              0                   0                       0  \n",
       "974            0              0                   0                       0  \n",
       "975            0              0                   0                       0  \n",
       "976            0              0                   0                       0  \n",
       "977            0              0                   0                       0  \n",
       "\n",
       "[978 rows x 221 columns]"
      ]
     },
     "execution_count": 3,
     "metadata": {},
     "output_type": "execute_result"
    }
   ],
   "source": [
    "df = pd.read_csv('our_df.csv')\n",
    "df.drop(columns = 'Unnamed: 0', inplace = True)\n",
    "df"
   ]
  },
  {
   "cell_type": "code",
   "execution_count": 4,
   "id": "3bf66e74",
   "metadata": {},
   "outputs": [
    {
     "data": {
      "text/plain": [
       "347200000"
      ]
     },
     "execution_count": 4,
     "metadata": {},
     "output_type": "execute_result"
    }
   ],
   "source": [
    "df[\" Price\"].max() - df[\" Price\"].min()"
   ]
  },
  {
   "cell_type": "markdown",
   "id": "e8ad43fd",
   "metadata": {},
   "source": [
    "Размах цены: 347200000, - что очень много. Будем учитывать данный факт при анализе получившихся значений метрики MAE."
   ]
  },
  {
   "cell_type": "markdown",
   "id": "47813c8b",
   "metadata": {},
   "source": [
    "Разбиваем выборку на две части: обучающую и тестовую, дабы иметь возможность оценить и сравнить получившиеся модели на новых данных."
   ]
  },
  {
   "cell_type": "code",
   "execution_count": 5,
   "id": "461d0628",
   "metadata": {},
   "outputs": [],
   "source": [
    "from sklearn.model_selection import train_test_split\n",
    "\n",
    "X_train, X_test, y_train, y_test = train_test_split(df.drop(columns = ' Price'), df[' Price'], test_size=0.2, random_state = 29)"
   ]
  },
  {
   "cell_type": "markdown",
   "id": "b8dbacd4",
   "metadata": {},
   "source": [
    "Стандартизируем числовые признаки для повышения интерпретуемости модели и возможности оценить важность признаков для предсказания целевой переменной."
   ]
  },
  {
   "cell_type": "code",
   "execution_count": 6,
   "id": "568c3ce4",
   "metadata": {},
   "outputs": [],
   "source": [
    "numeric_features = [' Number of Rooms', ' Square', ' Current Floor', ' Total Floors']"
   ]
  },
  {
   "cell_type": "code",
   "execution_count": 7,
   "id": "962cfcae",
   "metadata": {},
   "outputs": [],
   "source": [
    "from sklearn.preprocessing import StandardScaler\n",
    "\n",
    "scaler = StandardScaler()\n",
    "X_train_scaled = scaler.fit_transform(X_train[numeric_features])\n",
    "X_test_scaled = scaler.transform(X_test[numeric_features])\n",
    "X_train[numeric_features] = X_train_scaled\n",
    "X_test[numeric_features] = X_test_scaled"
   ]
  },
  {
   "cell_type": "markdown",
   "id": "d0b21056",
   "metadata": {},
   "source": [
    "Для начала сделаем наивный прогноз, в качестве значения которого выступает средняя цена квартир по Москве. Будем использовать его для некоторой численной оценки улучшения качества наших моделей."
   ]
  },
  {
   "cell_type": "code",
   "execution_count": 8,
   "id": "c11b8e51",
   "metadata": {},
   "outputs": [
    {
     "name": "stdout",
     "output_type": "stream",
     "text": [
      "MAE test = 13688397.316\n"
     ]
    }
   ],
   "source": [
    "from sklearn.metrics import mean_absolute_error\n",
    "\n",
    "y_const = pd.Series(np.full((1, len(y_test)), df[\" Price\"].mean())[0])\n",
    "MAE_test = mean_absolute_error(y_test, y_const)\n",
    "\n",
    "print(f\"MAE test = {MAE_test:.3f}\")"
   ]
  },
  {
   "cell_type": "markdown",
   "id": "82c7739d",
   "metadata": {},
   "source": [
    "Теперь попробуем приблизить значения целевой переменной с помощью линейной регрессии."
   ]
  },
  {
   "cell_type": "code",
   "execution_count": 9,
   "id": "0bb5e711",
   "metadata": {},
   "outputs": [],
   "source": [
    "from sklearn.linear_model import LinearRegression\n",
    "\n",
    "model_regression = LinearRegression(fit_intercept = False)\n",
    "model_regression.fit(X_train, y_train)\n",
    "\n",
    "y_pred_train = model_regression.predict(X_train)\n",
    "y_pred_test = model_regression.predict(X_test)"
   ]
  },
  {
   "cell_type": "code",
   "execution_count": 10,
   "id": "9d5aafc1",
   "metadata": {},
   "outputs": [
    {
     "name": "stdout",
     "output_type": "stream",
     "text": [
      " MAE test = 1433495755732171008.000; MAE train = 4632088.835\n"
     ]
    }
   ],
   "source": [
    "MAE_test = mean_absolute_error(y_test, y_pred_test)\n",
    "MAE_train = mean_absolute_error(y_train, y_pred_train)\n",
    "\n",
    "print(f\" MAE test = {MAE_test:.3f}; MAE train = {MAE_train:.3f}\")"
   ]
  },
  {
   "cell_type": "markdown",
   "id": "038637a2",
   "metadata": {},
   "source": [
    "Качество на тесте сильно хуже, чем на трейне, что говорит о переобучении модели. Поэтому добавим Лассо регуляризацию. Для этого сначала подберем коэффициент регуляризации."
   ]
  },
  {
   "cell_type": "code",
   "execution_count": 11,
   "id": "84e6cb4d",
   "metadata": {},
   "outputs": [
    {
     "data": {
      "text/plain": [
       "array([-8.50984312e+06,  2.34797758e+07,  1.43142853e+05,  3.22645770e+05,\n",
       "        8.37836832e+05, -5.98556775e+06,  2.67599704e+19, -1.85332253e+19,\n",
       "       -3.49970112e+19,  3.63453370e+19,  5.34699760e+18,  1.01761745e+18,\n",
       "       -7.91176711e+18,  3.73226040e+19, -1.61531404e+19,  1.26034851e+19,\n",
       "        2.60239008e+19,  5.20237364e+19,  3.17859152e+19, -8.51455948e+17,\n",
       "        3.27022213e+19, -6.33465049e+19, -3.54938811e+19, -1.01761745e+18,\n",
       "       -1.01761745e+18, -3.63453370e+19,  1.61531404e+19, -2.60239008e+19,\n",
       "        1.61531404e+19,  1.31862277e+19, -3.63453370e+19, -1.01761745e+18,\n",
       "        1.85332253e+19,  8.51455948e+17,  7.91176711e+18, -5.34699760e+18,\n",
       "        7.91176711e+18,  8.51455948e+17, -3.63453370e+19, -6.31053075e+19,\n",
       "       -1.01761745e+18,  1.61531404e+19, -1.26034851e+19, -3.73226040e+19,\n",
       "       -1.01761745e+18, -1.26034851e+19,  1.61531404e+19,  3.49970112e+19,\n",
       "        1.68478720e+07, -1.26034851e+19])"
      ]
     },
     "execution_count": 11,
     "metadata": {},
     "output_type": "execute_result"
    }
   ],
   "source": [
    "model_regression.coef_[:50]"
   ]
  },
  {
   "cell_type": "markdown",
   "id": "1346407f",
   "metadata": {},
   "source": [
    "Большие веса - еще один симптом переобучения."
   ]
  },
  {
   "cell_type": "code",
   "execution_count": 12,
   "id": "c1d05eb9",
   "metadata": {},
   "outputs": [
    {
     "data": {
      "text/plain": [
       "[(2000000.0, 231664312040229.2),\n",
       " (1000000.0, 226501011158103.94),\n",
       " (100000.0, 244720294675430.7),\n",
       " (10000.0, 273186036576609.6),\n",
       " (1000.0, 281784613000832.6),\n",
       " (100.0, 282995517527102.4),\n",
       " (10.0, 283109708085335.3),\n",
       " (1.0, 283120529310842.2),\n",
       " (0.1, 283121587989817.9)]"
      ]
     },
     "execution_count": 12,
     "metadata": {},
     "output_type": "execute_result"
    }
   ],
   "source": [
    "from sklearn.linear_model import LassoCV\n",
    "\n",
    "alphas = [0.1, 1, 10, 100, 1000, 10000, 100000, 1000000, 2000000]\n",
    "reg = LassoCV(cv=5, alphas = alphas).fit(X_train, y_train)\n",
    "list(zip(reg.alphas_, np.mean(reg.mse_path_, axis = 1)))"
   ]
  },
  {
   "cell_type": "markdown",
   "id": "fa433791",
   "metadata": {},
   "source": [
    "Наилучшее качество дает alpha = 1000000. "
   ]
  },
  {
   "cell_type": "markdown",
   "id": "6a1e80aa",
   "metadata": {},
   "source": [
    "Посмотрим на влияние параметра регуляризации на евклидову норму весов, которая является численной характеристикой величины вектора. Поэтому используя данную величину можно судить о том, насколькобольшие элементы содержит вектор оценок коэффициентов."
   ]
  },
  {
   "cell_type": "code",
   "execution_count": 14,
   "id": "c64666fa",
   "metadata": {},
   "outputs": [
    {
     "data": {
      "image/png": "[encoded data removed]",
      "text/plain": [
       "<Figure size 864x432 with 1 Axes>"
      ]
     },
     "metadata": {},
     "output_type": "display_data"
    }
   ],
   "source": [
    "from sklearn.linear_model import Lasso\n",
    "lasso_norm = np.array([])\n",
    "\n",
    "for alpha in alphas:\n",
    "    lasso_model = Lasso(alpha = alpha).fit(X_train, y_train) \n",
    "    lasso_norm = np.append(lasso_norm, np.linalg.norm(lasso_model.coef_))\n",
    "\n",
    "plt.plot(alphas, lasso_norm)\n",
    "plt.title('Измненение евклидовой нормы весов при Lasso регуляризации')\n",
    "plt.xlabel('Alpha')\n",
    "plt.ylabel('Значение евклидовой нормы весов');"
   ]
  },
  {
   "cell_type": "markdown",
   "id": "05cb44f6",
   "metadata": {},
   "source": [
    "Теперь обучим линейную модель с найденным гиперпараметром и посмотрим на качество, дабы проверить эффект регуляризации на переобучение."
   ]
  },
  {
   "cell_type": "code",
   "execution_count": 15,
   "id": "9f95b4a8",
   "metadata": {},
   "outputs": [
    {
     "name": "stdout",
     "output_type": "stream",
     "text": [
      " MAE test = 6759204.034; MAE train = 6998665.230\n"
     ]
    }
   ],
   "source": [
    "lasso_model = Lasso(1000000)\n",
    "lasso_model.fit(X_train, y_train)\n",
    "\n",
    "y_pred_train = lasso_model.predict(X_train)\n",
    "y_pred_test = lasso_model.predict(X_test)\n",
    "\n",
    "MAE_test = mean_absolute_error(y_test, y_pred_test)\n",
    "MAE_train = mean_absolute_error(y_train, y_pred_train)\n",
    "\n",
    "print(f\" MAE test = {MAE_test:.3f}; MAE train = {MAE_train:.3f}\")"
   ]
  },
  {
   "cell_type": "markdown",
   "id": "1eb6af11",
   "metadata": {},
   "source": [
    "Качество значительно улучшилось: на тесте теперь даже выше, чем на трейне. Мы побороли переобучение! Также качество примерно в 2 раза лучше, чем у константной модели."
   ]
  },
  {
   "cell_type": "code",
   "execution_count": 16,
   "id": "942575c1",
   "metadata": {},
   "outputs": [
    {
     "data": {
      "text/plain": [
       "array([ -440715.93899983, 18266847.18247804,       -0.        ,\n",
       "             -0.        ,        0.        ,       -0.        ,\n",
       "              0.        ,        0.        ,        0.        ,\n",
       "              0.        ,        0.        ,       -0.        ,\n",
       "             -0.        ,        0.        ,       -0.        ,\n",
       "             -0.        ,        0.        ,       -0.        ,\n",
       "              0.        ,       -0.        ,       -0.        ,\n",
       "             -0.        ,        0.        ,        0.        ,\n",
       "             -0.        ,        0.        ,       -0.        ,\n",
       "              0.        ,       -0.        ,        0.        ,\n",
       "             -0.        ,       -0.        ,        0.        ,\n",
       "              0.        ,        0.        ,       -0.        ,\n",
       "              0.        ,       -0.        ,        0.        ,\n",
       "              0.        ,       -0.        ,       -0.        ,\n",
       "             -0.        ,       -0.        ,        0.        ,\n",
       "             -0.        ,        0.        ,        0.        ,\n",
       "             -0.        ,        0.        ])"
      ]
     },
     "execution_count": 16,
     "metadata": {},
     "output_type": "execute_result"
    }
   ],
   "source": [
    "lasso_model.coef_[:50]"
   ]
  },
  {
   "cell_type": "markdown",
   "id": "9eba4394",
   "metadata": {},
   "source": [
    "Большинство весов занулились, что говорит о низком влиянии данных признаков на целевую переменную."
   ]
  },
  {
   "cell_type": "markdown",
   "id": "b8375aed",
   "metadata": {},
   "source": [
    "Теперь попробуем взять другую модель и снова посмотреть на качество. Пусть будет бэггинг, но сначала подберем необходимые гиперпараметры посредством грид-серча."
   ]
  },
  {
   "cell_type": "code",
   "execution_count": 17,
   "id": "7ce9a010",
   "metadata": {},
   "outputs": [],
   "source": [
    "from sklearn.ensemble import BaggingRegressor\n",
    "from sklearn.model_selection import GridSearchCV"
   ]
  },
  {
   "cell_type": "code",
   "execution_count": 18,
   "id": "feb2854e",
   "metadata": {},
   "outputs": [
    {
     "name": "stdout",
     "output_type": "stream",
     "text": [
      "BaggingRegressor(max_features=19, n_estimators=29)\n"
     ]
    }
   ],
   "source": [
    "np.random.seed(140)\n",
    "\n",
    "n_estimators = range(1, 50)\n",
    "max_features = range(1, 20)\n",
    "\n",
    "\n",
    "choices = []\n",
    "\n",
    "param_grid = {\n",
    "    'n_estimators': n_estimators,\n",
    "    'max_features': max_features\n",
    "}\n",
    "\n",
    "grid_search = GridSearchCV(BaggingRegressor(),\n",
    "                           param_grid=param_grid, cv = 3, scoring = 'neg_mean_absolute_error')\n",
    "grid_search.fit(X_train, y_train)\n",
    "print(grid_search.best_estimator_)"
   ]
  },
  {
   "cell_type": "code",
   "execution_count": 19,
   "id": "ade9b05e",
   "metadata": {},
   "outputs": [
    {
     "name": "stdout",
     "output_type": "stream",
     "text": [
      " MAE test = 9489764.882; MAE train = 8035520.970\n"
     ]
    }
   ],
   "source": [
    "np.random.seed(140)\n",
    "\n",
    "bag = BaggingRegressor(n_estimators = 9, max_features=19)\n",
    "bag.fit(X_train, y_train)\n",
    "\n",
    "y_pred_train = bag.predict(X_train)\n",
    "y_pred_test = bag.predict(X_test)\n",
    "\n",
    "MAE_test = mean_absolute_error(y_test, y_pred_test)\n",
    "MAE_train = mean_absolute_error(y_train, y_pred_train)\n",
    "\n",
    "print(f\" MAE test = {MAE_test:.3f}; MAE train = {MAE_train:.3f}\")"
   ]
  },
  {
   "cell_type": "markdown",
   "id": "44de8356",
   "metadata": {},
   "source": [
    "Качество даже ниже, чем у обычной линейной регуляризованной модели. Поэтому отвергаем ее и больше не рассматриваем. Проиграл :("
   ]
  },
  {
   "cell_type": "markdown",
   "id": "20ad8bce",
   "metadata": {},
   "source": [
    "Теперь посмотрим, как с поставленной задачей справится Random Forest. Аналогично сначала подбираем гиперпараметры."
   ]
  },
  {
   "cell_type": "code",
   "execution_count": 20,
   "id": "0b800715",
   "metadata": {},
   "outputs": [],
   "source": [
    "from sklearn.ensemble import RandomForestRegressor"
   ]
  },
  {
   "cell_type": "code",
   "execution_count": 21,
   "id": "152e9ec9",
   "metadata": {},
   "outputs": [
    {
     "name": "stdout",
     "output_type": "stream",
     "text": [
      "RandomForestRegressor(max_depth=27, min_samples_split=3)\n"
     ]
    }
   ],
   "source": [
    "np.random.seed(140)\n",
    "\n",
    "max_depth_array = range(1, 50)\n",
    "min_samples_split_array = range(1, 20)\n",
    "choices = []\n",
    "\n",
    "param_grid = {\n",
    "    'max_depth': max_depth_array,\n",
    "    'min_samples_split': min_samples_split_array\n",
    "}\n",
    "\n",
    "grid_search = GridSearchCV(RandomForestRegressor(n_estimators = 100),\n",
    "                           param_grid=param_grid, cv = 3, scoring = 'neg_mean_absolute_error')\n",
    "grid_search.fit(X_train, y_train)\n",
    "print(grid_search.best_estimator_)"
   ]
  },
  {
   "cell_type": "code",
   "execution_count": 22,
   "id": "83c1faaf",
   "metadata": {},
   "outputs": [
    {
     "name": "stdout",
     "output_type": "stream",
     "text": [
      " MAE test = 3983171.389; MAE train = 1830776.767\n"
     ]
    }
   ],
   "source": [
    "model_rfr = RandomForestRegressor(n_estimators = 100, max_depth = 27, min_samples_split = 3)\n",
    "\n",
    "model_rfr.fit(X_train, y_train)\n",
    "\n",
    "y_pred_train = model_rfr.predict(X_train)\n",
    "y_pred_test = model_rfr.predict(X_test)\n",
    "\n",
    "rfr_test = mean_absolute_error(y_test.to_numpy(), y_pred_test)\n",
    "rfr_train = mean_absolute_error(y_train.to_numpy(), y_pred_train)\n",
    "\n",
    "print(f\" MAE test = {rfr_test:.3f}; MAE train = {rfr_train:.3f}\")"
   ]
  },
  {
   "cell_type": "markdown",
   "id": "310eef19",
   "metadata": {},
   "source": [
    "Качество значительно улучшилось по сравнению с другими предложенными моделями. Наш победитель --> Random Forest. На первый взгляд кажется, что даже лучшая метрика имеет довольно высокое значение, однако мы помним про большой размах целевой переменной (347200000) и наличие выбросов, которые мы тоже хотели бы научиться пресказывать (из-за чего не исключили их из рассмотрения). Поэтому полученная результирующая ошибка кажется весьма приемлемой ввиду размаха цены в несколько сотен миллионов. "
   ]
  }
 ],
 "metadata": {
  "kernelspec": {
   "display_name": "Python 3 (ipykernel)",
   "language": "python",
   "name": "python3"
  },
  "language_info": {
   "codemirror_mode": {
    "name": "ipython",
    "version": 3
   },
   "file_extension": ".py",
   "mimetype": "text/x-python",
   "name": "python",
   "nbconvert_exporter": "python",
   "pygments_lexer": "ipython3",
   "version": "3.9.12"
  }
 },
 "nbformat": 4,
 "nbformat_minor": 5
}
