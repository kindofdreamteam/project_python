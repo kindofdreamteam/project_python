{
 "cells": [
  {
   "cell_type": "markdown",
   "id": "f1c4d0d2",
   "metadata": {},
   "source": [
    "# Парсинг данных"
   ]
  },
  {
   "cell_type": "markdown",
   "id": "fb5a2bd3",
   "metadata": {},
   "source": [
    "Наша команда не хотела брать готовый парсер, поскольку мы опасались не понимать работу кода. По этой причине мы решили парсить самостоятельно.\n",
    "Изначально для парсинга был выбран сайт ЦИАН, но, тщательно изучив объявления на нем, наша команда выяснила, что у этого сайта достаточно неупорядоченный интерфейс. Спарсив его, мы бы столкнулись с проблемой огромного количества пропуска данных, что несомненно сказалось бы на качестве работы модели. Но команда нашла альтернативный сайт по продаже недвижимости - Авито. Он обладает более понятной и упорядоченной структурой, что помогает преодолеть трудность в виде пропусков. По этой причине мы сменили источник. Более того, у Авито более понятная html-структура страницы."
   ]
  },
  {
   "cell_type": "code",
   "execution_count": null,
   "id": "98628ce6",
   "metadata": {},
   "outputs": [],
   "source": [
    "!pip install selenium"
   ]
  },
  {
   "cell_type": "code",
   "execution_count": null,
   "id": "e05012cf",
   "metadata": {},
   "outputs": [],
   "source": [
    "import warnings\n",
    "warnings.filterwarnings('ignore')"
   ]
  },
  {
   "cell_type": "code",
   "execution_count": null,
   "id": "e46f5e9d",
   "metadata": {},
   "outputs": [],
   "source": [
    "from selenium import webdriver\n",
    "from selenium.common.exceptions import TimeoutException\n",
    "url = \"https://www.avito.ru/moskva/kvartiry/prodam/vtorichka-ASgBAQICAUSSA8YQAUDmBxSMUg?f=ASgBAQICAUSSA8YQAkDmBxSMUsoIpIpZmqwBmKwBlqwBlKwBiFmGWYRZglmAWQ\"\n",
    "driver = webdriver.Chrome()"
   ]
  },
  {
   "cell_type": "code",
   "execution_count": null,
   "id": "1890961c",
   "metadata": {},
   "outputs": [],
   "source": [
    "from selenium.webdriver.common.by import By\n",
    "driver.get(url)"
   ]
  },
  {
   "cell_type": "code",
   "execution_count": null,
   "id": "1a46252b",
   "metadata": {},
   "outputs": [],
   "source": [
    "all_links = []\n",
    "num_pages = 25\n",
    "for i in range(1, num_pages):\n",
    "    flats_one_page = driver.find_elements(By.TAG_NAME,'a')\n",
    "    for flat in flats_one_page:\n",
    "        all_links.append(flat.get_attribute(\"href\"))\n",
    "        print(flat.get_attribute(\"href\"))    \n",
    "    print(i)\n",
    "    driver.find_element(\"xpath\", \"//*[@id='app']/div/div[3]/div/div[2]/div[3]/div[3]/div[5]/nav/ul/li[9]/a\").click()"
   ]
  },
  {
   "cell_type": "markdown",
   "id": "e7d54b42",
   "metadata": {},
   "source": [
    "Сначала мы собираем абсолютно все ссылки с каждой страницы"
   ]
  },
  {
   "cell_type": "code",
   "execution_count": null,
   "id": "35a1774d",
   "metadata": {},
   "outputs": [],
   "source": [
    "PATTERN_1 = 'https://www.avito.ru/moskva/kvartiry/'\n",
    "PATTERN_2 = \"-k._kvartira_\"\n",
    "with open(\"flat_links1.txt\", \"w\" ) as file:\n",
    "    for url in all_links:\n",
    "        if url != None:\n",
    "            if url.__contains__(PATTERN_1) and  url.__contains__(PATTERN_2):\n",
    "                print(url, file = file)"
   ]
  },
  {
   "cell_type": "markdown",
   "id": "2a45dcc7",
   "metadata": {},
   "source": [
    "Затем по PATTERN_1, PATTERN_2 ищем именно объявления о продаже квартир вторичного жилья и сохраняем в \"flat_links1.txt\". Однако при просмотре текстового файла выяснили, что одна и та же ссылка записывается 2 раза. Решаем эту проблему ниже."
   ]
  },
  {
   "cell_type": "code",
   "execution_count": null,
   "id": "7a39b2fe",
   "metadata": {},
   "outputs": [],
   "source": [
    "with open(\"flat_links1.txt\", \"r\" ) as file:\n",
    "    with open(\"flat_links2.txt\", \"w\" ) as infile:\n",
    "        i = 0\n",
    "        for line in file:\n",
    "            if i % 2 == 0:\n",
    "                print(line, file = infile, end = \"\")\n",
    "            i += 1"
   ]
  },
  {
   "cell_type": "markdown",
   "id": "e425299f",
   "metadata": {},
   "source": [
    "Данный файл создается по следующей причине: при каждой новой имитации входа человека на сайт Авито, он обновляет объявления на всех страницах. Так как наша команда работает на нескольких компьютерах одновременно, с целью оптимизации нашей работы мы создали текстовый документ, в который записали все необходимые нам объявления на каждой странице. Тем самым мы решаем проблему записи одинаковых данных на разных компьютерах. \n",
    "\n",
    "Получили текстовый файл \"flat_links2.txt\", где на каждой строчке находятся ссылки на необходимые нам объявления.\n",
    "Поскольку при запуске кода на одном компьютере данные парсились очень долго, решили преобразовать код, чтобы иметь возможность запустить код в ячейке ниже на разных компьютерах (21 штука) одновременно, \"делегируя\" обязанности между ними. А именно принцип был следующий: первый компьютер парсит данные с 1 строки по 50 и сохраняет полученные данные в our_csv1.csv, второй - с 50 по 100 и сохраняет полученные данные в our_csv2.csv и т.д. Это позволяет ускорить код.  "
   ]
  },
  {
   "cell_type": "code",
   "execution_count": null,
   "id": "2b1c8760",
   "metadata": {},
   "outputs": [],
   "source": [
    "with open(\"flat_links2.txt\", \"r\") as file:\n",
    "    with open(\"our_csv3.csv\", \"w\", encoding='UTF-8') as infile:\n",
    "        print(\"Metro; Number of Rooms; Square; Current Floor; Total Floors; Auction; Price; Requisites Checked\", end = \"\\n\", file = infile)\n",
    "        lines = file.readlines()\n",
    "        for i in range(100, 150):\n",
    "            link = lines[i]\n",
    "            driver.get(link)\n",
    "            try:\n",
    "                metro = driver.find_element(\"xpath\", \"//*[@id='app']/div/div[2]/div[1]/div[2]/div[4]/div[1]/div[2]/div[2]/div/div[2]/div[1]/div/div/span/span[1]/span[2]\").text\n",
    "                print(metro, end = \";\", file = infile) \n",
    "                string = driver.find_element(By.CLASS_NAME, \"title-info-title-text\").text\n",
    "                \n",
    "                if string.find(\"Аукцион\") == -1:\n",
    "                    lst = string.split()     \n",
    "                    number_rooms = lst[0].split(\"-\")[0]\n",
    "                    print(number_rooms, end = \";\", file = infile)  \n",
    "                    square = lst[2]   \n",
    "                    print(square, end = \";\", file = infile)  \n",
    "                    current_floor = lst[4].split(\"/\")[0]\n",
    "                    print(current_floor, end = \";\", file = infile)   \n",
    "                    total_floors = lst[4].split(\"/\")[1]   \n",
    "                    print(total_floors, end = \";\", file = infile)\n",
    "                    print('Нет аукциона', end = \";\", file = infile)\n",
    "                else:\n",
    "                    lst = string.split()     \n",
    "                    number_rooms = lst[1].split(\"-\")[0]\n",
    "                    print(number_rooms, end = \";\", file = infile)  \n",
    "                    square = lst[3]   \n",
    "                    print(square, end = \";\", file = infile) \n",
    "                    current_floor = lst[5].split(\"/\")[0]\n",
    "                    print(current_floor, end = \";\", file = infile)   \n",
    "                    total_floors = lst[5].split(\"/\")[1]   \n",
    "                    print(total_floors, end = \";\", file = infile)\n",
    "                    print('Аукцион', end = \";\", file = infile)\n",
    "                    \n",
    "                price = driver.find_element(By.CLASS_NAME, \"styles-module-size_xxxl-A2qfi\").text\n",
    "                print(price, end = \";\", file = infile)  \n",
    "                try:   \n",
    "                    requisites_checked = driver.find_element(By.CLASS_NAME, \"SnippetBadge-title-oSImJ\").text\n",
    "                    print(requisites_checked, end = \"\\n\", file = infile)\n",
    "                except:     \n",
    "                    requisites_checked = \"Реквизиты не проверены\"\n",
    "                    print(requisites_checked, end = \"\\n\", file = infile)\n",
    "            except:   \n",
    "                try:\n",
    "                    metro = driver.find_element(\"xpath\", \"//*[@id='app']/div/div[2]/div[1]/div[2]/div[3]/div[1]/div[2]/div[2]/div/div[2]/div[1]/div/div/span/span[1]/span[2]\").text                  \n",
    "                    print(metro, end = \";\", file = infile) \n",
    "                    string = driver.find_element(By.CLASS_NAME, \"title-info-title-text\").text\n",
    "                    \n",
    "                    if string.find(\"Аукцион\") == -1:\n",
    "                        lst = string.split()     \n",
    "                        number_rooms = lst[0].split(\"-\")[0]\n",
    "                        print(number_rooms, end = \";\", file = infile)  \n",
    "                        square = lst[2]   \n",
    "                        print(square, end = \";\", file = infile)  \n",
    "                        current_floor = lst[4].split(\"/\")[0]\n",
    "                        print(current_floor, end = \";\", file = infile)   \n",
    "                        total_floors = lst[4].split(\"/\")[1]   \n",
    "                        print(total_floors, end = \";\", file = infile)\n",
    "                        print('Нет аукциона', end = \";\", file = infile)\n",
    "                    else:\n",
    "                        lst = string.split()     \n",
    "                        number_rooms = lst[1].split(\"-\")[0]\n",
    "                        print(number_rooms, end = \";\", file = infile)  \n",
    "                        square = lst[3]   \n",
    "                        print(square, end = \";\", file = infile)  \n",
    "                        current_floor = lst[5].split(\"/\")[0]\n",
    "                        print(current_floor, end = \";\", file = infile)\n",
    "                        total_floors = lst[5].split(\"/\")[1]   \n",
    "                        print(total_floors, end = \";\", file = infile)\n",
    "                        print('Аукцион', end = \";\", file = infile)\n",
    "                    price = driver.find_element(By.CLASS_NAME, \"styles-module-size_xxxl-A2qfi\").text\n",
    "                    print(price, end = \";\", file = infile)\n",
    "                    try:   \n",
    "                        requisites_checked = driver.find_element(By.CLASS_NAME, \"SnippetBadge-title-oSImJ\").text\n",
    "                        print(requisites_checked, end = \"\\n\", file = infile)\n",
    "                    except:     \n",
    "                        requisites_checked = \"Реквизиты не проверены\"\n",
    "                        print(requisites_checked, end = \"\\n\", file = infile)\n",
    "                except: \n",
    "                    continue "
   ]
  },
  {
   "cell_type": "markdown",
   "id": "155356e0",
   "metadata": {},
   "source": [
    "В данном коде мы открываем текстовый файл \"flat_links2.txt\" с ссылками на объявления, проходимся циклом for по ссылкам и сразу записываем полученные признаки в файл csv. \n",
    "\n",
    "Нами были выбраны признаки \"Metro\" - станция метро, 'Number of Rooms' - количество комнат, \"Square\" - общая площадь; \"Current Floor\" - этаж, на котором находится квартира; \"Total Floors\" - общее количество этажей в доме; \"Auction\" - наличие аукциона; \"Requisites Checked\" - наличие проверенных реквизитов и \"Price\" - цена, наша целевая переменная.\n",
    "\n",
    "Мы разграничили код по переменной \"Auction\", поскольку когда квартира находилась на аукционе, то менялся паттерн, по которому происходило сплитование строки (if-else). \n",
    "\n",
    "Также было 2 возможных xpath для метро в зависимости от типа объявления (try-except). А также мы обходили случай, когда станция метро не указана в объявлении путем использования вложенного try-except. Такие объявления не рассматривались, так как путем анализа нескольких из них, выяснили, что они находятся не в Москве, а в Подмосковье, несмотря на установленные фильтры на сайте. "
   ]
  }
 ],
 "metadata": {
  "kernelspec": {
   "display_name": "Python 3 (ipykernel)",
   "language": "python",
   "name": "python3"
  },
  "language_info": {
   "codemirror_mode": {
    "name": "ipython",
    "version": 3
   },
   "file_extension": ".py",
   "mimetype": "text/x-python",
   "name": "python",
   "nbconvert_exporter": "python",
   "pygments_lexer": "ipython3",
   "version": "3.9.7"
  }
 },
 "nbformat": 4,
 "nbformat_minor": 5
}
