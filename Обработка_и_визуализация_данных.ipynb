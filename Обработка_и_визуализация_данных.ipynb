{
 "cells": [
  {
   "cell_type": "markdown",
   "id": "77306c26",
   "metadata": {},
   "source": [
    "# Обработка и визуализация данных"
   ]
  },
  {
   "cell_type": "markdown",
   "id": "141b2fda",
   "metadata": {},
   "source": [
    "Заимпортим библиотеки, которые могут нам пригодиться."
   ]
  },
  {
   "cell_type": "code",
   "execution_count": 1,
   "id": "a78ba76b",
   "metadata": {},
   "outputs": [],
   "source": [
    "import matplotlib.pyplot as plt\n",
    "import seaborn as sns\n",
    "import pandas as pd\n",
    "import numpy as np\n",
    "import warnings"
   ]
  },
  {
   "cell_type": "code",
   "execution_count": 2,
   "id": "967e5196",
   "metadata": {},
   "outputs": [],
   "source": [
    "warnings.filterwarnings(\"ignore\")\n",
    "sns.set_theme(style=\"whitegrid\", palette=\"muted\")\n",
    "plt.rcParams['figure.figsize'] = (12, 6)"
   ]
  },
  {
   "cell_type": "markdown",
   "id": "8b385ac6",
   "metadata": {},
   "source": [
    "Считываем данные из 21* файла, которые получили раннее. Соединяем всю информацию в одну пандасовскую таблицу."
   ]
  },
  {
   "cell_type": "code",
   "execution_count": 3,
   "id": "14e12587",
   "metadata": {},
   "outputs": [],
   "source": [
    "df_1 = pd.read_csv(\"our_csv1.csv\", sep = \";\")\n",
    "df_2 = pd.read_csv(\"our_csv2.csv\", sep = \";\")\n",
    "df_3 = pd.read_csv(\"our_csv3.csv\", sep = \";\")\n",
    "df_4 = pd.read_csv(\"our_csv4 (2).csv\", sep = \";\")\n",
    "df_5 = pd.read_csv(\"our_csv5 (3).csv\", sep = \";\")\n",
    "df_6 = pd.read_csv(\"our_csv6.csv\", sep = \";\")\n",
    "df_7 = pd.read_csv(\"our_csv7.csv\", sep = \";\")\n",
    "df_8 = pd.read_csv(\"our_csv8 (1).csv\", sep = \";\")\n",
    "df_9 = pd.read_csv(\"our_csv9.csv\", sep = \";\")\n",
    "df_10 = pd.read_csv(\"our_csv10.csv\", sep = \";\")\n",
    "#df_11 = pd.read_csv(\"our_csv11.csv\", sep = \";\") он на самом деле есть, перед дедлайном случайно удалили, потом восстановим\n",
    "df_12 = pd.read_csv(\"our_csv12 (1).csv\", sep = \";\")\n",
    "df_13 = pd.read_csv(\"our_csv13.csv\", sep = \";\")\n",
    "df_14 = pd.read_csv(\"our_csv14 (3).csv\", sep = \";\")\n",
    "df_15 = pd.read_csv(\"our_csv15 (1).csv\", sep = \";\")\n",
    "df_16 = pd.read_csv(\"our_csv16 (2).csv\", sep = \";\")\n",
    "df_17 = pd.read_csv(\"our_csv17.csv\", sep = \";\")\n",
    "df_18 = pd.read_csv(\"our_csv18 (1).csv\", sep = \";\")\n",
    "df_19 = pd.read_csv(\"our_csv19.csv\", sep = \";\")\n",
    "df_20 = pd.read_csv(\"our_csv20.csv\", sep = \";\")\n",
    "df_21 = pd.read_csv(\"our_csv21.csv\", sep = \";\", on_bad_lines='skip')\n",
    "\n",
    "df = pd.concat([df_1, df_2, df_3, df_4, df_5, df_6, df_7, df_8, df_9, df_10, df_12, df_13, df_14, df_15, df_16, df_17, df_18, df_19, df_20, df_21])\n"
   ]
  },
  {
   "cell_type": "code",
   "execution_count": 4,
   "id": "d18bbdde",
   "metadata": {},
   "outputs": [
    {
     "data": {
      "text/html": [
       "<div>\n",
       "<style scoped>\n",
       "    .dataframe tbody tr th:only-of-type {\n",
       "        vertical-align: middle;\n",
       "    }\n",
       "\n",
       "    .dataframe tbody tr th {\n",
       "        vertical-align: top;\n",
       "    }\n",
       "\n",
       "    .dataframe thead th {\n",
       "        text-align: right;\n",
       "    }\n",
       "</style>\n",
       "<table border=\"1\" class=\"dataframe\">\n",
       "  <thead>\n",
       "    <tr style=\"text-align: right;\">\n",
       "      <th></th>\n",
       "      <th>Metro</th>\n",
       "      <th>Number of Rooms</th>\n",
       "      <th>Square</th>\n",
       "      <th>Current Floor</th>\n",
       "      <th>Total Floors</th>\n",
       "      <th>Auction</th>\n",
       "      <th>Price</th>\n",
       "      <th>Requisites Checked</th>\n",
       "    </tr>\n",
       "  </thead>\n",
       "  <tbody>\n",
       "    <tr>\n",
       "      <th>0</th>\n",
       "      <td>Дмитровская</td>\n",
       "      <td>4</td>\n",
       "      <td>138</td>\n",
       "      <td>4</td>\n",
       "      <td>59</td>\n",
       "      <td>Нет аукциона</td>\n",
       "      <td>74 000 000</td>\n",
       "      <td>Реквизиты проверены</td>\n",
       "    </tr>\n",
       "    <tr>\n",
       "      <th>1</th>\n",
       "      <td>Ломоносовский проспект</td>\n",
       "      <td>2</td>\n",
       "      <td>37,1</td>\n",
       "      <td>3</td>\n",
       "      <td>9</td>\n",
       "      <td>Нет аукциона</td>\n",
       "      <td>13 900 000</td>\n",
       "      <td>Реквизиты не проверены</td>\n",
       "    </tr>\n",
       "    <tr>\n",
       "      <th>2</th>\n",
       "      <td>Дмитровская</td>\n",
       "      <td>4</td>\n",
       "      <td>132</td>\n",
       "      <td>5</td>\n",
       "      <td>59</td>\n",
       "      <td>Нет аукциона</td>\n",
       "      <td>75 000 000</td>\n",
       "      <td>Реквизиты проверены</td>\n",
       "    </tr>\n",
       "    <tr>\n",
       "      <th>3</th>\n",
       "      <td>Бунинская аллея</td>\n",
       "      <td>2</td>\n",
       "      <td>38</td>\n",
       "      <td>6</td>\n",
       "      <td>8</td>\n",
       "      <td>Нет аукциона</td>\n",
       "      <td>13 400 000</td>\n",
       "      <td>Реквизиты не проверены</td>\n",
       "    </tr>\n",
       "    <tr>\n",
       "      <th>4</th>\n",
       "      <td>Зюзино</td>\n",
       "      <td>2</td>\n",
       "      <td>84</td>\n",
       "      <td>5</td>\n",
       "      <td>31</td>\n",
       "      <td>Нет аукциона</td>\n",
       "      <td>35 950 000</td>\n",
       "      <td>Реквизиты не проверены</td>\n",
       "    </tr>\n",
       "    <tr>\n",
       "      <th>...</th>\n",
       "      <td>...</td>\n",
       "      <td>...</td>\n",
       "      <td>...</td>\n",
       "      <td>...</td>\n",
       "      <td>...</td>\n",
       "      <td>...</td>\n",
       "      <td>...</td>\n",
       "      <td>...</td>\n",
       "    </tr>\n",
       "    <tr>\n",
       "      <th>973</th>\n",
       "      <td>Чертановская</td>\n",
       "      <td>1</td>\n",
       "      <td>34,1</td>\n",
       "      <td>8</td>\n",
       "      <td>9</td>\n",
       "      <td>Нет аукциона</td>\n",
       "      <td>9 000 000</td>\n",
       "      <td>Реквизиты не проверены</td>\n",
       "    </tr>\n",
       "    <tr>\n",
       "      <th>974</th>\n",
       "      <td>Кантемировская</td>\n",
       "      <td>3</td>\n",
       "      <td>64</td>\n",
       "      <td>14</td>\n",
       "      <td>14</td>\n",
       "      <td>Нет аукциона</td>\n",
       "      <td>14 300 000</td>\n",
       "      <td>Экологический вклад -9 кг CO₂</td>\n",
       "    </tr>\n",
       "    <tr>\n",
       "      <th>975</th>\n",
       "      <td>Первомайская</td>\n",
       "      <td>1</td>\n",
       "      <td>31</td>\n",
       "      <td>3</td>\n",
       "      <td>9</td>\n",
       "      <td>Нет аукциона</td>\n",
       "      <td>8 550 000</td>\n",
       "      <td>Реквизиты проверены</td>\n",
       "    </tr>\n",
       "    <tr>\n",
       "      <th>976</th>\n",
       "      <td>Тушинская</td>\n",
       "      <td>1</td>\n",
       "      <td>33</td>\n",
       "      <td>4</td>\n",
       "      <td>5</td>\n",
       "      <td>Нет аукциона</td>\n",
       "      <td>10 500 000</td>\n",
       "      <td>Реквизиты не проверены</td>\n",
       "    </tr>\n",
       "    <tr>\n",
       "      <th>977</th>\n",
       "      <td>Народное Ополчение</td>\n",
       "      <td>1</td>\n",
       "      <td>33</td>\n",
       "      <td>1</td>\n",
       "      <td>9</td>\n",
       "      <td>Нет аукциона</td>\n",
       "      <td>12 500 000</td>\n",
       "      <td>Реквизиты не проверены</td>\n",
       "    </tr>\n",
       "  </tbody>\n",
       "</table>\n",
       "<p>978 rows × 8 columns</p>\n",
       "</div>"
      ],
      "text/plain": [
       "                      Metro   Number of Rooms  Square   Current Floor  \\\n",
       "0               Дмитровская                 4     138               4   \n",
       "1    Ломоносовский проспект                 2    37,1               3   \n",
       "2               Дмитровская                 4     132               5   \n",
       "3           Бунинская аллея                 2      38               6   \n",
       "4                    Зюзино                 2      84               5   \n",
       "..                      ...               ...     ...             ...   \n",
       "973            Чертановская                 1    34,1               8   \n",
       "974          Кантемировская                 3      64              14   \n",
       "975            Первомайская                 1      31               3   \n",
       "976               Тушинская                 1      33               4   \n",
       "977      Народное Ополчение                 1      33               1   \n",
       "\n",
       "      Total Floors       Auction       Price             Requisites Checked  \n",
       "0               59  Нет аукциона  74 000 000            Реквизиты проверены  \n",
       "1                9  Нет аукциона  13 900 000         Реквизиты не проверены  \n",
       "2               59  Нет аукциона  75 000 000            Реквизиты проверены  \n",
       "3                8  Нет аукциона  13 400 000         Реквизиты не проверены  \n",
       "4               31  Нет аукциона  35 950 000         Реквизиты не проверены  \n",
       "..             ...           ...         ...                            ...  \n",
       "973              9  Нет аукциона   9 000 000         Реквизиты не проверены  \n",
       "974             14  Нет аукциона  14 300 000  Экологический вклад -9 кг CO₂  \n",
       "975              9  Нет аукциона   8 550 000            Реквизиты проверены  \n",
       "976              5  Нет аукциона  10 500 000         Реквизиты не проверены  \n",
       "977              9  Нет аукциона  12 500 000         Реквизиты не проверены  \n",
       "\n",
       "[978 rows x 8 columns]"
      ]
     },
     "execution_count": 4,
     "metadata": {},
     "output_type": "execute_result"
    }
   ],
   "source": [
    "df.reset_index(drop = True, inplace = True)\n",
    "df"
   ]
  },
  {
   "cell_type": "markdown",
   "id": "0f8e75d8",
   "metadata": {},
   "source": [
    "Проверим наличие пропусков в данных."
   ]
  },
  {
   "cell_type": "code",
   "execution_count": 5,
   "id": "5a6e93da",
   "metadata": {},
   "outputs": [
    {
     "data": {
      "text/plain": [
       "0"
      ]
     },
     "execution_count": 5,
     "metadata": {},
     "output_type": "execute_result"
    }
   ],
   "source": [
    "df.isnull().sum().sum()"
   ]
  },
  {
   "cell_type": "markdown",
   "id": "d10b7318",
   "metadata": {},
   "source": [
    "Пропусков нет, что и неудивительно, так как мы не парсили такие данные."
   ]
  },
  {
   "cell_type": "markdown",
   "id": "121d1883",
   "metadata": {},
   "source": [
    "Посмотрим на типы данных в каждом столбце для проверки того, что данные интерпретируются корректно."
   ]
  },
  {
   "cell_type": "code",
   "execution_count": 6,
   "id": "b088d8c1",
   "metadata": {},
   "outputs": [
    {
     "data": {
      "text/plain": [
       "Metro                  object\n",
       " Number of Rooms        int64\n",
       " Square                object\n",
       " Current Floor          int64\n",
       " Total Floors           int64\n",
       " Auction               object\n",
       " Price                 object\n",
       " Requisites Checked    object\n",
       "dtype: object"
      ]
     },
     "execution_count": 6,
     "metadata": {},
     "output_type": "execute_result"
    }
   ],
   "source": [
    "df.dtypes"
   ]
  },
  {
   "cell_type": "markdown",
   "id": "37ce3a31",
   "metadata": {},
   "source": [
    "Как видно, есть пара несостыковок типа данных и их смысловой нагрузки, а именно: square считывается как строка, так как в десятичных дробях используются в качестве разделителей запятые; аналогично с price (между тысячами стоят пробелы, из-за чего воспринимается как str)"
   ]
  },
  {
   "cell_type": "code",
   "execution_count": 7,
   "id": "a9a05eaa",
   "metadata": {},
   "outputs": [],
   "source": [
    "df[' Square'] = df[' Square'].apply(lambda x: x.replace(\",\", \".\"))"
   ]
  },
  {
   "cell_type": "code",
   "execution_count": 8,
   "id": "2534c56a",
   "metadata": {},
   "outputs": [
    {
     "data": {
      "text/html": [
       "<div>\n",
       "<style scoped>\n",
       "    .dataframe tbody tr th:only-of-type {\n",
       "        vertical-align: middle;\n",
       "    }\n",
       "\n",
       "    .dataframe tbody tr th {\n",
       "        vertical-align: top;\n",
       "    }\n",
       "\n",
       "    .dataframe thead th {\n",
       "        text-align: right;\n",
       "    }\n",
       "</style>\n",
       "<table border=\"1\" class=\"dataframe\">\n",
       "  <thead>\n",
       "    <tr style=\"text-align: right;\">\n",
       "      <th></th>\n",
       "      <th>Metro</th>\n",
       "      <th>Number of Rooms</th>\n",
       "      <th>Square</th>\n",
       "      <th>Current Floor</th>\n",
       "      <th>Total Floors</th>\n",
       "      <th>Auction</th>\n",
       "      <th>Price</th>\n",
       "      <th>Requisites Checked</th>\n",
       "    </tr>\n",
       "  </thead>\n",
       "  <tbody>\n",
       "    <tr>\n",
       "      <th>0</th>\n",
       "      <td>Дмитровская</td>\n",
       "      <td>4</td>\n",
       "      <td>138.0</td>\n",
       "      <td>4</td>\n",
       "      <td>59</td>\n",
       "      <td>Нет аукциона</td>\n",
       "      <td>74 000 000</td>\n",
       "      <td>Реквизиты проверены</td>\n",
       "    </tr>\n",
       "    <tr>\n",
       "      <th>1</th>\n",
       "      <td>Ломоносовский проспект</td>\n",
       "      <td>2</td>\n",
       "      <td>37.1</td>\n",
       "      <td>3</td>\n",
       "      <td>9</td>\n",
       "      <td>Нет аукциона</td>\n",
       "      <td>13 900 000</td>\n",
       "      <td>Реквизиты не проверены</td>\n",
       "    </tr>\n",
       "    <tr>\n",
       "      <th>2</th>\n",
       "      <td>Дмитровская</td>\n",
       "      <td>4</td>\n",
       "      <td>132.0</td>\n",
       "      <td>5</td>\n",
       "      <td>59</td>\n",
       "      <td>Нет аукциона</td>\n",
       "      <td>75 000 000</td>\n",
       "      <td>Реквизиты проверены</td>\n",
       "    </tr>\n",
       "    <tr>\n",
       "      <th>3</th>\n",
       "      <td>Бунинская аллея</td>\n",
       "      <td>2</td>\n",
       "      <td>38.0</td>\n",
       "      <td>6</td>\n",
       "      <td>8</td>\n",
       "      <td>Нет аукциона</td>\n",
       "      <td>13 400 000</td>\n",
       "      <td>Реквизиты не проверены</td>\n",
       "    </tr>\n",
       "    <tr>\n",
       "      <th>4</th>\n",
       "      <td>Зюзино</td>\n",
       "      <td>2</td>\n",
       "      <td>84.0</td>\n",
       "      <td>5</td>\n",
       "      <td>31</td>\n",
       "      <td>Нет аукциона</td>\n",
       "      <td>35 950 000</td>\n",
       "      <td>Реквизиты не проверены</td>\n",
       "    </tr>\n",
       "  </tbody>\n",
       "</table>\n",
       "</div>"
      ],
      "text/plain": [
       "                    Metro   Number of Rooms   Square   Current Floor  \\\n",
       "0             Дмитровская                 4    138.0               4   \n",
       "1  Ломоносовский проспект                 2     37.1               3   \n",
       "2             Дмитровская                 4    132.0               5   \n",
       "3         Бунинская аллея                 2     38.0               6   \n",
       "4                  Зюзино                 2     84.0               5   \n",
       "\n",
       "    Total Floors       Auction       Price      Requisites Checked  \n",
       "0             59  Нет аукциона  74 000 000     Реквизиты проверены  \n",
       "1              9  Нет аукциона  13 900 000  Реквизиты не проверены  \n",
       "2             59  Нет аукциона  75 000 000     Реквизиты проверены  \n",
       "3              8  Нет аукциона  13 400 000  Реквизиты не проверены  \n",
       "4             31  Нет аукциона  35 950 000  Реквизиты не проверены  "
      ]
     },
     "execution_count": 8,
     "metadata": {},
     "output_type": "execute_result"
    }
   ],
   "source": [
    "df[' Square'] = df[' Square'].astype(float)\n",
    "df.head()"
   ]
  },
  {
   "cell_type": "code",
   "execution_count": 9,
   "id": "618848c5",
   "metadata": {},
   "outputs": [],
   "source": [
    "df[' Price'] = df[' Price'].apply(lambda x: \"\".join(x.split()))\n",
    "df[' Price'] = df[' Price'].apply(lambda x: np.where(x.isdigit() == False, x[2:], x))"
   ]
  },
  {
   "cell_type": "code",
   "execution_count": 10,
   "id": "888fb392",
   "metadata": {},
   "outputs": [],
   "source": [
    "df[' Price'] = df[' Price'].astype(int)"
   ]
  },
  {
   "cell_type": "markdown",
   "id": "89cd61b7",
   "metadata": {},
   "source": [
    "Теперь типы данных соотвествуют реалиям."
   ]
  },
  {
   "cell_type": "code",
   "execution_count": 11,
   "id": "044e3dbb",
   "metadata": {},
   "outputs": [
    {
     "data": {
      "text/plain": [
       "Metro                   object\n",
       " Number of Rooms         int64\n",
       " Square                float64\n",
       " Current Floor           int64\n",
       " Total Floors            int64\n",
       " Auction                object\n",
       " Price                   int32\n",
       " Requisites Checked     object\n",
       "dtype: object"
      ]
     },
     "execution_count": 11,
     "metadata": {},
     "output_type": "execute_result"
    }
   ],
   "source": [
    "df.dtypes"
   ]
  },
  {
   "cell_type": "markdown",
   "id": "ffc7348c",
   "metadata": {},
   "source": [
    "Теперь закодируем бинарные признаки: requisites checked (если реквизиты/документы проверены - 1, в противном случае - 0), auction (если квартира выставлена на аукцион - 1, в противном случае - 0)."
   ]
  },
  {
   "cell_type": "code",
   "execution_count": 12,
   "id": "417c9b5d",
   "metadata": {},
   "outputs": [],
   "source": [
    "df[' Requisites Checked'].value_counts()\n",
    "df[\"Requisites Checked\"] = np.where((df[' Requisites Checked'] == \"Реквизиты проверены\") | (df[' Requisites Checked'] == \"Документы проверены \"), 1, 0)"
   ]
  },
  {
   "cell_type": "code",
   "execution_count": 13,
   "id": "3858e1e6",
   "metadata": {},
   "outputs": [
    {
     "data": {
      "text/html": [
       "<div>\n",
       "<style scoped>\n",
       "    .dataframe tbody tr th:only-of-type {\n",
       "        vertical-align: middle;\n",
       "    }\n",
       "\n",
       "    .dataframe tbody tr th {\n",
       "        vertical-align: top;\n",
       "    }\n",
       "\n",
       "    .dataframe thead th {\n",
       "        text-align: right;\n",
       "    }\n",
       "</style>\n",
       "<table border=\"1\" class=\"dataframe\">\n",
       "  <thead>\n",
       "    <tr style=\"text-align: right;\">\n",
       "      <th></th>\n",
       "      <th>Metro</th>\n",
       "      <th>Number of Rooms</th>\n",
       "      <th>Square</th>\n",
       "      <th>Current Floor</th>\n",
       "      <th>Total Floors</th>\n",
       "      <th>Auction</th>\n",
       "      <th>Price</th>\n",
       "      <th>Requisites Checked</th>\n",
       "    </tr>\n",
       "  </thead>\n",
       "  <tbody>\n",
       "    <tr>\n",
       "      <th>0</th>\n",
       "      <td>Дмитровская</td>\n",
       "      <td>4</td>\n",
       "      <td>138.0</td>\n",
       "      <td>4</td>\n",
       "      <td>59</td>\n",
       "      <td>Нет аукциона</td>\n",
       "      <td>74000000</td>\n",
       "      <td>1</td>\n",
       "    </tr>\n",
       "    <tr>\n",
       "      <th>1</th>\n",
       "      <td>Ломоносовский проспект</td>\n",
       "      <td>2</td>\n",
       "      <td>37.1</td>\n",
       "      <td>3</td>\n",
       "      <td>9</td>\n",
       "      <td>Нет аукциона</td>\n",
       "      <td>13900000</td>\n",
       "      <td>0</td>\n",
       "    </tr>\n",
       "    <tr>\n",
       "      <th>2</th>\n",
       "      <td>Дмитровская</td>\n",
       "      <td>4</td>\n",
       "      <td>132.0</td>\n",
       "      <td>5</td>\n",
       "      <td>59</td>\n",
       "      <td>Нет аукциона</td>\n",
       "      <td>75000000</td>\n",
       "      <td>1</td>\n",
       "    </tr>\n",
       "    <tr>\n",
       "      <th>3</th>\n",
       "      <td>Бунинская аллея</td>\n",
       "      <td>2</td>\n",
       "      <td>38.0</td>\n",
       "      <td>6</td>\n",
       "      <td>8</td>\n",
       "      <td>Нет аукциона</td>\n",
       "      <td>13400000</td>\n",
       "      <td>0</td>\n",
       "    </tr>\n",
       "    <tr>\n",
       "      <th>4</th>\n",
       "      <td>Зюзино</td>\n",
       "      <td>2</td>\n",
       "      <td>84.0</td>\n",
       "      <td>5</td>\n",
       "      <td>31</td>\n",
       "      <td>Нет аукциона</td>\n",
       "      <td>35950000</td>\n",
       "      <td>0</td>\n",
       "    </tr>\n",
       "  </tbody>\n",
       "</table>\n",
       "</div>"
      ],
      "text/plain": [
       "                    Metro   Number of Rooms   Square   Current Floor  \\\n",
       "0             Дмитровская                 4    138.0               4   \n",
       "1  Ломоносовский проспект                 2     37.1               3   \n",
       "2             Дмитровская                 4    132.0               5   \n",
       "3         Бунинская аллея                 2     38.0               6   \n",
       "4                  Зюзино                 2     84.0               5   \n",
       "\n",
       "    Total Floors       Auction     Price  Requisites Checked  \n",
       "0             59  Нет аукциона  74000000                   1  \n",
       "1              9  Нет аукциона  13900000                   0  \n",
       "2             59  Нет аукциона  75000000                   1  \n",
       "3              8  Нет аукциона  13400000                   0  \n",
       "4             31  Нет аукциона  35950000                   0  "
      ]
     },
     "execution_count": 13,
     "metadata": {},
     "output_type": "execute_result"
    }
   ],
   "source": [
    "df.drop(' Requisites Checked', axis = 1, inplace = True)\n",
    "df.head()"
   ]
  },
  {
   "cell_type": "code",
   "execution_count": 14,
   "id": "73f3394a",
   "metadata": {},
   "outputs": [],
   "source": [
    "df[\"Auction\"] = np.where(df[' Auction'] == \"Нет аукциона\", 0, 1)"
   ]
  },
  {
   "cell_type": "code",
   "execution_count": 15,
   "id": "245b631b",
   "metadata": {},
   "outputs": [
    {
     "data": {
      "text/html": [
       "<div>\n",
       "<style scoped>\n",
       "    .dataframe tbody tr th:only-of-type {\n",
       "        vertical-align: middle;\n",
       "    }\n",
       "\n",
       "    .dataframe tbody tr th {\n",
       "        vertical-align: top;\n",
       "    }\n",
       "\n",
       "    .dataframe thead th {\n",
       "        text-align: right;\n",
       "    }\n",
       "</style>\n",
       "<table border=\"1\" class=\"dataframe\">\n",
       "  <thead>\n",
       "    <tr style=\"text-align: right;\">\n",
       "      <th></th>\n",
       "      <th>Metro</th>\n",
       "      <th>Number of Rooms</th>\n",
       "      <th>Square</th>\n",
       "      <th>Current Floor</th>\n",
       "      <th>Total Floors</th>\n",
       "      <th>Price</th>\n",
       "      <th>Requisites Checked</th>\n",
       "      <th>Auction</th>\n",
       "    </tr>\n",
       "  </thead>\n",
       "  <tbody>\n",
       "    <tr>\n",
       "      <th>0</th>\n",
       "      <td>Дмитровская</td>\n",
       "      <td>4</td>\n",
       "      <td>138.0</td>\n",
       "      <td>4</td>\n",
       "      <td>59</td>\n",
       "      <td>74000000</td>\n",
       "      <td>1</td>\n",
       "      <td>0</td>\n",
       "    </tr>\n",
       "    <tr>\n",
       "      <th>1</th>\n",
       "      <td>Ломоносовский проспект</td>\n",
       "      <td>2</td>\n",
       "      <td>37.1</td>\n",
       "      <td>3</td>\n",
       "      <td>9</td>\n",
       "      <td>13900000</td>\n",
       "      <td>0</td>\n",
       "      <td>0</td>\n",
       "    </tr>\n",
       "    <tr>\n",
       "      <th>2</th>\n",
       "      <td>Дмитровская</td>\n",
       "      <td>4</td>\n",
       "      <td>132.0</td>\n",
       "      <td>5</td>\n",
       "      <td>59</td>\n",
       "      <td>75000000</td>\n",
       "      <td>1</td>\n",
       "      <td>0</td>\n",
       "    </tr>\n",
       "    <tr>\n",
       "      <th>3</th>\n",
       "      <td>Бунинская аллея</td>\n",
       "      <td>2</td>\n",
       "      <td>38.0</td>\n",
       "      <td>6</td>\n",
       "      <td>8</td>\n",
       "      <td>13400000</td>\n",
       "      <td>0</td>\n",
       "      <td>0</td>\n",
       "    </tr>\n",
       "    <tr>\n",
       "      <th>4</th>\n",
       "      <td>Зюзино</td>\n",
       "      <td>2</td>\n",
       "      <td>84.0</td>\n",
       "      <td>5</td>\n",
       "      <td>31</td>\n",
       "      <td>35950000</td>\n",
       "      <td>0</td>\n",
       "      <td>0</td>\n",
       "    </tr>\n",
       "  </tbody>\n",
       "</table>\n",
       "</div>"
      ],
      "text/plain": [
       "                    Metro   Number of Rooms   Square   Current Floor  \\\n",
       "0             Дмитровская                 4    138.0               4   \n",
       "1  Ломоносовский проспект                 2     37.1               3   \n",
       "2             Дмитровская                 4    132.0               5   \n",
       "3         Бунинская аллея                 2     38.0               6   \n",
       "4                  Зюзино                 2     84.0               5   \n",
       "\n",
       "    Total Floors     Price  Requisites Checked  Auction  \n",
       "0             59  74000000                   1        0  \n",
       "1              9  13900000                   0        0  \n",
       "2             59  75000000                   1        0  \n",
       "3              8  13400000                   0        0  \n",
       "4             31  35950000                   0        0  "
      ]
     },
     "execution_count": 15,
     "metadata": {},
     "output_type": "execute_result"
    }
   ],
   "source": [
    "df.drop(' Auction', axis = 1, inplace = True)\n",
    "df.head()"
   ]
  },
  {
   "cell_type": "markdown",
   "id": "5b2adfc3",
   "metadata": {},
   "source": [
    "Создадим новый категориальный признак. Будем по названию ближайшего к квартире метро определять его ветку. Для этого создадим словарь, где ключами будут являться цвета ветки, а значениями - список станций, относящихся к ней. Сразу сделаем ручной one-hot."
   ]
  },
  {
   "cell_type": "code",
   "execution_count": 16,
   "id": "634bd95b",
   "metadata": {},
   "outputs": [],
   "source": [
    "branch_metro = {'Красная': [\"Сокольническая\", \"Библиотека имени Ленина\", \"Бульвар Рокоссовского\", \"Воробьевы горы\", \"Коммунарка\",\n",
    "                            \"Комсомольская\", \"Красносельская\", \"Красные ворота\", \"Кропоткинская\", \"Лубянка\", \"Ольховая\", \"Охотный ряд\", \n",
    "                            \"Парк Культуры\", \"Преображенская площадь\", \"Прокшино\", \"Проспект Вернадского\", \"Румянцево\", \"Саларьево\",\n",
    "                            \"Сокольники\", \"Спортивная\", \"Тропарёво\", \"Университет\", \"Филатов Луг\", \"Фрунзенская\", \"Черкизовская\", \n",
    "                            \"Чистые пруды\", \"Юго-Западная\"], \n",
    "                'Зеленая': [\"Замоскворецкая\", \"Автозаводская\", \"Алма-Атинская\", \"Аэропорт\", \"Беломорская\", \"Белорусская\", \"Водный стадион\",\n",
    "                           \"Войковская\", \"Динамо\", \"Домодедовская\", \"Кантемировская\", \"Каширская\", \"Коломенская\", \"Красногвардейская\",\n",
    "                           \"Маяковская\", \"Новокузнецкая\", \"Орехово\", \"Павелецкая\", \"Речной вокзал\", \"Сокол\", \"Тверская\", \"Театральная\", \n",
    "                           \"Технопарк\", \"Ховрино\", \"Царицыно\"],\n",
    "                'Синяя': [\"Арбатско-Покровская\", \"Арбатская\", \"Бауманская\", \"Волоколамская\", \"Измайловская\", \"Киевская\", \"Крылатское\", \n",
    "                         \"Кунцевская\", \"Курская\", \"Митино\", \"Молодежная\", \"Мякинино\", \"Парк Победы\", \"Партизанская\", \"Первомайская\", \n",
    "                         \"Площадь Революции\", \"Пятницкое шоссе\", \"Семеновская\", \"Славянский бульвар\", \"Ремонт вестибюля\", \"Смоленская\",\n",
    "                         \"Строгино\", \"Щелковская\", \"Электрозаводская\"],\n",
    "                'Голубая': [\"Филевская\", \"Александровский сад\", \"Арбатская\", \"Багратионовская\", \"Выставочная\", \"Киевская\", \"Кунцевская\",\n",
    "                           'Кутузовская', 'Международная,' 'Пионерская', 'Смоленская', 'Студенческая', 'Филевский парк', 'Фили'],\n",
    "                'Коричневая': ['Кольцевая', 'Белорусская', 'Добрынинская', 'Киевская', 'Комсомольская', 'Краснопресненская', 'Курская',\n",
    "                              'Новослободская', 'Октябрьская', 'Павелецкая', 'Парк Культуры', 'Проспект Мира', 'Таганская'],\n",
    "                'Оранжевая': ['Калужско-Рижская', 'Академическая', 'Алексеевская', 'Бабушкинская', 'Беляево', 'Ботанический сад',\n",
    "                             'ВДНХ','Калужская', 'Китай-город', 'Коньково', 'Ленинский проспект', 'Медведково', 'Новоясеневская', \n",
    "                             'Новые Черёмушки', 'Октябрьская', 'Проспект Мира', 'Профсоюзная', 'Рижская', 'Свиблово', 'Сухаревская', \n",
    "                             'Теплый стан', 'Третьяковская', 'Тургеневская', 'Шаболовская', 'Ясенево'],\n",
    "\n",
    "                'Фиолетовая': ['Таганско-Краснопресненская', 'Баррикадная', 'Беговая', 'Волгоградский проспект', 'Выхино', 'Жулебино', \n",
    "                              'Китай-город', 'Котельники', 'Кузнецкий мост', 'Кузьминки', 'Лермонтовский проспект', 'Октябрьское поле', \n",
    "                              'Планерная', 'Полежаевская', 'Пролетарская', 'Пушкинская', 'Рязанский проспект', 'Спартак', 'Сходненская', \n",
    "                              'Таганская', 'Текстильщики', 'Тушинская', 'Улица 1905 года', 'Щукинская'],\n",
    "\n",
    "                'Желтая': ['Калининская', 'Авиамоторная', 'Боровское шоссе', 'Говорово', 'Деловой центр', 'Ломоносовский проспект', \n",
    "                          'Марксистская', 'Минская', 'Мичуринский проспект', 'Новогиреево', 'Новокосино', 'Новопеределкино', 'Озёрная', \n",
    "                          'Парк Победы', 'Перово', 'Площадь Ильича', 'Раменки', 'Рассказовка', 'Солнцево', 'Третьяковская',\n",
    "                          'Шоссе Энтузиастов'],\n",
    "\n",
    "                'Серая': ['Серпуховско-Тимирязевская', 'Алтуфьево', 'Аннино', 'Бибирево', 'Боровицкая', 'Бульвар Дмитрия Донского', \n",
    "                         'Владыкино', 'Дмитровская', 'Менделеевская', 'Нагатинская', 'Нагорная', 'Нахимовский Проспект', \n",
    "                         'Отрадное', 'Петровско-Разумовская', 'Полянка', 'Пражская', 'Савеловская', 'Севастопольская', 'Серпуховская', \n",
    "                         'Тимирязевская', 'Тульская', 'Улица академика Янгеля', 'Цветной бульвар', 'Чертановская', 'Чеховская', 'Южная'],\n",
    "\n",
    "                'Салатовая': ['Люблинско-Дмитровская', 'Борисово', 'Братиславская', 'Бутырская', 'Верхние Лихоборы', 'Волжская', \n",
    "                             'Достоевская', 'Дубровка', 'Зябликово', 'Кожуховская', 'Крестьянская застава', 'Люблино', 'Марьина роща', \n",
    "                             'Марьино', 'Окружная', 'Петровско-Разумовская', 'Печатники', 'Римская', 'Селигерская', 'Сретенский бульвар',\n",
    "                             'Трубная', 'Фонвизинская,' 'Чкаловская', 'Шипиловская'],\n",
    "\n",
    "                'БКЛ': ['Большая кольцевая', 'Авиамоторная', 'Аминьевская', 'Варшавская', 'Воронцовская', 'Давыдково', 'Деловой центр', \n",
    "                       'Зюзино', 'Каховская', 'Каширская', 'Кленовый бульвар', 'Кунцевская', 'Лефортово', 'Марьина Роща',\n",
    "                       'Мичуринский проспект', 'Мнёвники', 'Нагатинский Затон', 'Народное Ополчение', 'Нижегородская', 'Новаторская',\n",
    "                       'Петровский парк', 'Печатники', 'Проспект Вернадского', 'Рижская', 'Савеловская', 'Сокольники', 'Текстильщики',\n",
    "                       'Терехово', 'Хорошёвская', 'ЦСКА', 'Шелепиха', 'Электрозаводская'],\n",
    "\n",
    "                'Серо-голубая': ['Бутовская', 'Битцевский парк', 'Бульвар адмирала Ушакова', 'Бунинская Аллея', 'Лесопарковая',\n",
    "                                'Улица Горчакова', 'Улица Скобелевская', 'Улица Старокачаловская'],\n",
    "\n",
    "                'Бирюзовая': ['Московская монорельсовая транспортная система', 'Выставочный центр', 'Телецентр', 'Тимирязевская', \n",
    "                    'Улица Академика Королёва', 'Улица Милашенкова'],\n",
    "\n",
    "                'МЦК': ['Московское центральное кольцо', 'Автозаводская', 'Андроновка', 'Балтийская', 'Белокаменная',' Ботанический сад',\n",
    "                       'Бульвар Рокоссовского, Верхние Котлы', 'Владыкино', 'Деловой центр', 'Дубровка', 'ЗИЛ', 'Зорге', 'Измайлово', \n",
    "                       'Коптево', 'Крымская', 'Кутузовская', 'Лихоборы', 'Локомотив', 'Лужники', 'Нижегородская', 'Новохохловская', 'Окружная',  \n",
    "                       'Панфиловская', 'Площадь Гагарина', 'Ростокино', 'Соколиная Гора', 'Стрешнево', 'Угрешская', 'Хорошёво', 'Шелепиха',\n",
    "                       'Шоссе Энтузиастов'],\n",
    "                'Розовая': ['Некрасовская', 'Косино', 'Лухмановская', 'Некрасовка', 'Нижегородская', 'Окская', 'Стахановская', \n",
    "                           'Улица Дмитриевского', 'Юго-Восточная']}\n"
   ]
  },
  {
   "cell_type": "code",
   "execution_count": 17,
   "id": "79fa4125",
   "metadata": {},
   "outputs": [
    {
     "data": {
      "text/html": [
       "<div>\n",
       "<style scoped>\n",
       "    .dataframe tbody tr th:only-of-type {\n",
       "        vertical-align: middle;\n",
       "    }\n",
       "\n",
       "    .dataframe tbody tr th {\n",
       "        vertical-align: top;\n",
       "    }\n",
       "\n",
       "    .dataframe thead th {\n",
       "        text-align: right;\n",
       "    }\n",
       "</style>\n",
       "<table border=\"1\" class=\"dataframe\">\n",
       "  <thead>\n",
       "    <tr style=\"text-align: right;\">\n",
       "      <th></th>\n",
       "      <th>Metro</th>\n",
       "      <th>Number of Rooms</th>\n",
       "      <th>Square</th>\n",
       "      <th>Current Floor</th>\n",
       "      <th>Total Floors</th>\n",
       "      <th>Price</th>\n",
       "      <th>Requisites Checked</th>\n",
       "      <th>Auction</th>\n",
       "      <th>Красная</th>\n",
       "      <th>Зеленая</th>\n",
       "      <th>...</th>\n",
       "      <th>Оранжевая</th>\n",
       "      <th>Фиолетовая</th>\n",
       "      <th>Желтая</th>\n",
       "      <th>Серая</th>\n",
       "      <th>Салатовая</th>\n",
       "      <th>БКЛ</th>\n",
       "      <th>Серо-голубая</th>\n",
       "      <th>Бирюзовая</th>\n",
       "      <th>МЦК</th>\n",
       "      <th>Розовая</th>\n",
       "    </tr>\n",
       "  </thead>\n",
       "  <tbody>\n",
       "    <tr>\n",
       "      <th>0</th>\n",
       "      <td>Дмитровская</td>\n",
       "      <td>4</td>\n",
       "      <td>138.0</td>\n",
       "      <td>4</td>\n",
       "      <td>59</td>\n",
       "      <td>74000000</td>\n",
       "      <td>1</td>\n",
       "      <td>0</td>\n",
       "      <td>0</td>\n",
       "      <td>0</td>\n",
       "      <td>...</td>\n",
       "      <td>0</td>\n",
       "      <td>0</td>\n",
       "      <td>0</td>\n",
       "      <td>1</td>\n",
       "      <td>0</td>\n",
       "      <td>0</td>\n",
       "      <td>0</td>\n",
       "      <td>0</td>\n",
       "      <td>0</td>\n",
       "      <td>0</td>\n",
       "    </tr>\n",
       "    <tr>\n",
       "      <th>1</th>\n",
       "      <td>Ломоносовский проспект</td>\n",
       "      <td>2</td>\n",
       "      <td>37.1</td>\n",
       "      <td>3</td>\n",
       "      <td>9</td>\n",
       "      <td>13900000</td>\n",
       "      <td>0</td>\n",
       "      <td>0</td>\n",
       "      <td>0</td>\n",
       "      <td>0</td>\n",
       "      <td>...</td>\n",
       "      <td>0</td>\n",
       "      <td>0</td>\n",
       "      <td>1</td>\n",
       "      <td>0</td>\n",
       "      <td>0</td>\n",
       "      <td>0</td>\n",
       "      <td>0</td>\n",
       "      <td>0</td>\n",
       "      <td>0</td>\n",
       "      <td>0</td>\n",
       "    </tr>\n",
       "    <tr>\n",
       "      <th>2</th>\n",
       "      <td>Дмитровская</td>\n",
       "      <td>4</td>\n",
       "      <td>132.0</td>\n",
       "      <td>5</td>\n",
       "      <td>59</td>\n",
       "      <td>75000000</td>\n",
       "      <td>1</td>\n",
       "      <td>0</td>\n",
       "      <td>0</td>\n",
       "      <td>0</td>\n",
       "      <td>...</td>\n",
       "      <td>0</td>\n",
       "      <td>0</td>\n",
       "      <td>0</td>\n",
       "      <td>1</td>\n",
       "      <td>0</td>\n",
       "      <td>0</td>\n",
       "      <td>0</td>\n",
       "      <td>0</td>\n",
       "      <td>0</td>\n",
       "      <td>0</td>\n",
       "    </tr>\n",
       "    <tr>\n",
       "      <th>3</th>\n",
       "      <td>Бунинская аллея</td>\n",
       "      <td>2</td>\n",
       "      <td>38.0</td>\n",
       "      <td>6</td>\n",
       "      <td>8</td>\n",
       "      <td>13400000</td>\n",
       "      <td>0</td>\n",
       "      <td>0</td>\n",
       "      <td>0</td>\n",
       "      <td>0</td>\n",
       "      <td>...</td>\n",
       "      <td>0</td>\n",
       "      <td>0</td>\n",
       "      <td>0</td>\n",
       "      <td>0</td>\n",
       "      <td>0</td>\n",
       "      <td>0</td>\n",
       "      <td>0</td>\n",
       "      <td>0</td>\n",
       "      <td>0</td>\n",
       "      <td>0</td>\n",
       "    </tr>\n",
       "    <tr>\n",
       "      <th>4</th>\n",
       "      <td>Зюзино</td>\n",
       "      <td>2</td>\n",
       "      <td>84.0</td>\n",
       "      <td>5</td>\n",
       "      <td>31</td>\n",
       "      <td>35950000</td>\n",
       "      <td>0</td>\n",
       "      <td>0</td>\n",
       "      <td>0</td>\n",
       "      <td>0</td>\n",
       "      <td>...</td>\n",
       "      <td>0</td>\n",
       "      <td>0</td>\n",
       "      <td>0</td>\n",
       "      <td>0</td>\n",
       "      <td>0</td>\n",
       "      <td>1</td>\n",
       "      <td>0</td>\n",
       "      <td>0</td>\n",
       "      <td>0</td>\n",
       "      <td>0</td>\n",
       "    </tr>\n",
       "  </tbody>\n",
       "</table>\n",
       "<p>5 rows × 23 columns</p>\n",
       "</div>"
      ],
      "text/plain": [
       "                    Metro   Number of Rooms   Square   Current Floor  \\\n",
       "0             Дмитровская                 4    138.0               4   \n",
       "1  Ломоносовский проспект                 2     37.1               3   \n",
       "2             Дмитровская                 4    132.0               5   \n",
       "3         Бунинская аллея                 2     38.0               6   \n",
       "4                  Зюзино                 2     84.0               5   \n",
       "\n",
       "    Total Floors     Price  Requisites Checked  Auction  Красная  Зеленая  \\\n",
       "0             59  74000000                   1        0        0        0   \n",
       "1              9  13900000                   0        0        0        0   \n",
       "2             59  75000000                   1        0        0        0   \n",
       "3              8  13400000                   0        0        0        0   \n",
       "4             31  35950000                   0        0        0        0   \n",
       "\n",
       "   ...  Оранжевая  Фиолетовая  Желтая  Серая  Салатовая  БКЛ  Серо-голубая  \\\n",
       "0  ...          0           0       0      1          0    0             0   \n",
       "1  ...          0           0       1      0          0    0             0   \n",
       "2  ...          0           0       0      1          0    0             0   \n",
       "3  ...          0           0       0      0          0    0             0   \n",
       "4  ...          0           0       0      0          0    1             0   \n",
       "\n",
       "   Бирюзовая  МЦК  Розовая  \n",
       "0          0    0        0  \n",
       "1          0    0        0  \n",
       "2          0    0        0  \n",
       "3          0    0        0  \n",
       "4          0    0        0  \n",
       "\n",
       "[5 rows x 23 columns]"
      ]
     },
     "execution_count": 17,
     "metadata": {},
     "output_type": "execute_result"
    }
   ],
   "source": [
    "for color in branch_metro:\n",
    "    df[color] = np.where(df['Metro'].isin(branch_metro[color]), 1, 0)\n",
    "df.head()"
   ]
  },
  {
   "cell_type": "markdown",
   "id": "93d753f8",
   "metadata": {},
   "source": [
    "Теперь посмотрим на распределение данных по признакам в нашей выборке."
   ]
  },
  {
   "cell_type": "code",
   "execution_count": 18,
   "id": "e8e2352a",
   "metadata": {},
   "outputs": [
    {
     "data": {
      "image/png": "[encoded data removed]",
      "text/plain": [
       "<Figure size 864x432 with 1 Axes>"
      ]
     },
     "metadata": {},
     "output_type": "display_data"
    }
   ],
   "source": [
    "plt.hist(df[' Square'], bins = 50)\n",
    "plt.title('Гистограмма распределения площади квартиры по выборке')\n",
    "plt.xlabel('Площадь квартиры')\n",
    "plt.ylabel('Количество  квартир');"
   ]
  },
  {
   "cell_type": "markdown",
   "id": "3cd9d00f",
   "metadata": {},
   "source": [
    "На диаграмме распределения площади квартир в выборке визуально заметно, что данное распределение похоже на Хи-квадрат (с малым количеством степеней свободы > 2). В выборке представлено незначительное количество квартир с общей площадью более 200 м^2, что являются выбросами. Но тем не менее мы не будем исключать их из выборки, так как считаем важным обстоятельством рассматривать полный спектр квартир вторичного жилья."
   ]
  },
  {
   "cell_type": "code",
   "execution_count": 19,
   "id": "df2ef6c1",
   "metadata": {},
   "outputs": [
    {
     "data": {
      "image/png": "[encoded data removed]",
      "text/plain": [
       "<Figure size 864x432 with 1 Axes>"
      ]
     },
     "metadata": {},
     "output_type": "display_data"
    }
   ],
   "source": [
    "plt.hist(df[' Number of Rooms'], bins = 6)\n",
    "plt.title('Гистограмма распределения количества комнат по выборке')\n",
    "plt.xlabel('Количество комнат в квартире')\n",
    "plt.ylabel('Количество  квартир');"
   ]
  },
  {
   "cell_type": "markdown",
   "id": "ca1f5f63",
   "metadata": {},
   "source": [
    "На гистограмме распределения количества комнат видно, что в выборке наибольшее количество 2-ух комнатных квартир (около 380), примерно 320 квартир однокомнатных и 240 трехкомнатных. Наименьшее количество шестикомнатных и семикомнатных квартир представлено в выборке. В общих чертах распределение похоже на Хи-квадрат (с малым количеством степеней свободы > 2)."
   ]
  },
  {
   "cell_type": "code",
   "execution_count": 20,
   "id": "225d1e12",
   "metadata": {},
   "outputs": [
    {
     "data": {
      "image/png": "[encoded data removed]",
      "text/plain": [
       "<Figure size 864x432 with 1 Axes>"
      ]
     },
     "metadata": {},
     "output_type": "display_data"
    }
   ],
   "source": [
    "plt.hist(df[' Total Floors'], bins = 30)\n",
    "plt.title('Гистограмма распределения количества этажей в доме по выборке')\n",
    "plt.xlabel('Количество этажей в доме')\n",
    "plt.ylabel('Количество  квартир');"
   ]
  },
  {
   "cell_type": "markdown",
   "id": "41e0b115",
   "metadata": {},
   "source": [
    "На гистограмме распределения общего количества этажей в доме видно, что данное распределение визуально похоже на Хи-квадрат. Большинство квартир вторичного жилья находятся в десятиэтажках (мода для общего количества этажей в здании). С увеличением общего количества этажей в доме, число квартир в выборке уменьшается. Однако стоит заметить, что в представленной выборке отсутствуют наблюдения с 40-50 этажами в здании в качестве признака, но в диапазине 50-60 этажей есть некоторые объекты, что странно. Возможно, квартиры, попавшие в этот диапазон, находятся в Москва-Сити."
   ]
  },
  {
   "cell_type": "code",
   "execution_count": 21,
   "id": "a8cacd03",
   "metadata": {},
   "outputs": [
    {
     "data": {
      "image/png": "[encoded data removed]",
      "text/plain": [
       "<Figure size 864x432 with 1 Axes>"
      ]
     },
     "metadata": {},
     "output_type": "display_data"
    }
   ],
   "source": [
    "plt.hist(df[' Current Floor'], bins = 20)\n",
    "plt.title('Гистограмма распределения номера этажа квартиры')\n",
    "plt.xlabel('Номер этажа квартиры')\n",
    "plt.ylabel('Количество  квартир');"
   ]
  },
  {
   "cell_type": "markdown",
   "id": "204d913e",
   "metadata": {},
   "source": [
    "На данной гистограмме видно, что распределение номера этажа квартиры визуально похоже на экспоненциальное: с увеличением номера этажа становится меньше наблюдений в выборке. Присутствуют выбросы (30-50 этаж)."
   ]
  },
  {
   "cell_type": "markdown",
   "id": "58fb9197",
   "metadata": {},
   "source": [
    "Теперь зная распределение наиболее репрезентативных признаков, можем перейти к выявлению взаимосвязей между ними. Для этого посчитаем корреляции признаков с нашей целевой переменной price и отсортируем их, дабы найти те признаки, которые сильнее всего влияют на таргет."
   ]
  },
  {
   "cell_type": "code",
   "execution_count": 22,
   "id": "1c3b92e9",
   "metadata": {},
   "outputs": [
    {
     "data": {
      "text/plain": [
       " Price                1.000000\n",
       " Square               0.793465\n",
       " Number of Rooms      0.584558\n",
       "Коричневая            0.259817\n",
       "Requisites Checked    0.178787\n",
       "Голубая               0.157109\n",
       "Синяя                 0.108514\n",
       " Total Floors         0.099691\n",
       " Current Floor        0.085218\n",
       "Зеленая               0.076324\n",
       "Красная               0.055350\n",
       "Оранжевая             0.033211\n",
       "МЦК                   0.028992\n",
       "Желтая                0.001675\n",
       "БКЛ                  -0.000175\n",
       "Бирюзовая            -0.003097\n",
       "Серая                -0.004367\n",
       "Auction              -0.058761\n",
       "Фиолетовая           -0.065072\n",
       "Розовая              -0.073788\n",
       "Серо-голубая         -0.085075\n",
       "Салатовая            -0.097073\n",
       "Name:  Price, dtype: float64"
      ]
     },
     "execution_count": 22,
     "metadata": {},
     "output_type": "execute_result"
    }
   ],
   "source": [
    "df.corr()[' Price'].sort_values(ascending = False)"
   ]
  },
  {
   "cell_type": "markdown",
   "id": "fa584371",
   "metadata": {},
   "source": [
    "Видим, что сильнее всего с целевой переменной коррелируют такие признаки, как: площадь квартиры, количество комнат, наличие проверенных реквезитов, и некоторые ветки метро. Обратим внимание, что именно коричневая и голубая ветки метро сильнее всего коррелируют с price, что может быть объяснено тем, что они проходят через центр Москвы и огибают места \"людского притяжения\" с популярными городскими точками."
   ]
  },
  {
   "cell_type": "code",
   "execution_count": 23,
   "id": "1381d9d6",
   "metadata": {},
   "outputs": [
    {
     "data": {
      "image/png": "[encoded data removed]",
      "text/plain": [
       "<Figure size 864x432 with 1 Axes>"
      ]
     },
     "metadata": {},
     "output_type": "display_data"
    }
   ],
   "source": [
    "plt.scatter(df[' Square'], df[' Price'])\n",
    "plt.title('Диаграмма рассеяния зависимости цены квартиры от площади')\n",
    "plt.xlabel('Плоащдь квартиры')\n",
    "plt.ylabel('Цена');"
   ]
  },
  {
   "cell_type": "markdown",
   "id": "c5485c52",
   "metadata": {},
   "source": [
    "На диаграмме соотношения цены и общей площади видно, что между этими пременными присутствует высокая положительная линейная связь (0.798). Однако на графике рассеяния заметно, что есть выбросы, на это следует обратить внимание."
   ]
  },
  {
   "cell_type": "code",
   "execution_count": 24,
   "id": "47b61f9c",
   "metadata": {},
   "outputs": [
    {
     "data": {
      "image/png": "[encoded data removed]",
      "text/plain": [
       "<Figure size 864x432 with 1 Axes>"
      ]
     },
     "metadata": {},
     "output_type": "display_data"
    }
   ],
   "source": [
    "sns.barplot(df[' Number of Rooms'], df[' Price'])\n",
    "plt.title('Столбчатая диаграмма распределения цены квартиры в зависимости от количества комнат');"
   ]
  },
  {
   "cell_type": "markdown",
   "id": "192a15ed",
   "metadata": {},
   "source": [
    "Столбчатая диаграмма распределения цены квартиры в зависимости от количества комнат показывает связь между категориальной переменной (однокомнатная, двухкомнатная, трехкомнатная и т.д. квартира) и ценой квартиры (значения большие по сравнению с количеством комнат, поэтому на оси у значения цен, умноженные на 10^8). Заметен логичный вывод, что наиболее высокая цена у 7-комнатных квартир, наименьшая – у однокомнатных. При этом цены на квартиры с 5 комнатами ниже, чем четырехкомнатных и шестикомнатных (странно, конечно, ну ладно)."
   ]
  },
  {
   "cell_type": "code",
   "execution_count": 32,
   "id": "f69cb7f0",
   "metadata": {},
   "outputs": [
    {
     "data": {
      "image/png": "[encoded data removed]",
      "text/plain": [
       "<Figure size 864x432 with 1 Axes>"
      ]
     },
     "metadata": {},
     "output_type": "display_data"
    }
   ],
   "source": [
    "sns.catplot(data = df, x=' Number of Rooms', y=' Price', kind = 'violin', hue = 'Requisites Checked',palette = ['pink', 'purple'], aspect = 2, height = 6, split = True,  legend_out = False)\n",
    "plt.title('Скрипичная диаграмма распределения цены квартиры от количества комнат и наличия провер');"
   ]
  },
  {
   "cell_type": "markdown",
   "id": "19c5ea24",
   "metadata": {},
   "source": [
    "Анализируя черные тонкие полосы, можем утверждать, что 95% доверительные интервалы цен квартир при их группировке на количество комнат особенно большие у 3-комнатных квартир, что говорит нам о возможном большом значении дисперсии их стоимости, хотя дело может быть в небольшом количестве объявлений продаж квартир с таким количеством комнат (но это не наш случай, так как мы помним, что 3-х комнатных квартир в нашей выборке достаточно). В это же время квартиры с другим количеством комнат имеют достаточно небольшие 95% доверительные интервалы и наталкивают на противоположные выводы: либо у выборок малое значение дисперсии, либо в них большое количество наблюдений.\n",
    "\n",
    "Смотря на толстую черную полосу, можем судить о межквартильном диапазоне. Практически у всех типов квартир он маленький, разброс их цен маленький. А самый большой у 7-комнатных квартир, что говорит нам о большой величине размаха цен квартир с таким количеством комнат."
   ]
  },
  {
   "cell_type": "markdown",
   "id": "d6450196",
   "metadata": {},
   "source": [
    "Закодируем оставшиеся категориальные признаки one-hot'ом ."
   ]
  },
  {
   "cell_type": "code",
   "execution_count": 26,
   "id": "3ee393da",
   "metadata": {},
   "outputs": [
    {
     "data": {
      "text/html": [
       "<div>\n",
       "<style scoped>\n",
       "    .dataframe tbody tr th:only-of-type {\n",
       "        vertical-align: middle;\n",
       "    }\n",
       "\n",
       "    .dataframe tbody tr th {\n",
       "        vertical-align: top;\n",
       "    }\n",
       "\n",
       "    .dataframe thead th {\n",
       "        text-align: right;\n",
       "    }\n",
       "</style>\n",
       "<table border=\"1\" class=\"dataframe\">\n",
       "  <thead>\n",
       "    <tr style=\"text-align: right;\">\n",
       "      <th></th>\n",
       "      <th>Number of Rooms</th>\n",
       "      <th>Square</th>\n",
       "      <th>Current Floor</th>\n",
       "      <th>Total Floors</th>\n",
       "      <th>Price</th>\n",
       "      <th>Requisites Checked</th>\n",
       "      <th>Auction</th>\n",
       "      <th>Красная</th>\n",
       "      <th>Зеленая</th>\n",
       "      <th>Синяя</th>\n",
       "      <th>...</th>\n",
       "      <th>Metro_Шоссе Энтузиастов</th>\n",
       "      <th>Metro_Щукинская</th>\n",
       "      <th>Metro_Щёлковская</th>\n",
       "      <th>Metro_Электрозаводская</th>\n",
       "      <th>Metro_Юго-Восточная</th>\n",
       "      <th>Metro_Юго-Западная</th>\n",
       "      <th>Metro_Южная</th>\n",
       "      <th>Metro_Ясенево</th>\n",
       "      <th>Metro_р-н Северный</th>\n",
       "      <th>Metro_р-н Южное Бутово</th>\n",
       "    </tr>\n",
       "  </thead>\n",
       "  <tbody>\n",
       "    <tr>\n",
       "      <th>0</th>\n",
       "      <td>4</td>\n",
       "      <td>138.0</td>\n",
       "      <td>4</td>\n",
       "      <td>59</td>\n",
       "      <td>74000000</td>\n",
       "      <td>1</td>\n",
       "      <td>0</td>\n",
       "      <td>0</td>\n",
       "      <td>0</td>\n",
       "      <td>0</td>\n",
       "      <td>...</td>\n",
       "      <td>0</td>\n",
       "      <td>0</td>\n",
       "      <td>0</td>\n",
       "      <td>0</td>\n",
       "      <td>0</td>\n",
       "      <td>0</td>\n",
       "      <td>0</td>\n",
       "      <td>0</td>\n",
       "      <td>0</td>\n",
       "      <td>0</td>\n",
       "    </tr>\n",
       "    <tr>\n",
       "      <th>1</th>\n",
       "      <td>2</td>\n",
       "      <td>37.1</td>\n",
       "      <td>3</td>\n",
       "      <td>9</td>\n",
       "      <td>13900000</td>\n",
       "      <td>0</td>\n",
       "      <td>0</td>\n",
       "      <td>0</td>\n",
       "      <td>0</td>\n",
       "      <td>0</td>\n",
       "      <td>...</td>\n",
       "      <td>0</td>\n",
       "      <td>0</td>\n",
       "      <td>0</td>\n",
       "      <td>0</td>\n",
       "      <td>0</td>\n",
       "      <td>0</td>\n",
       "      <td>0</td>\n",
       "      <td>0</td>\n",
       "      <td>0</td>\n",
       "      <td>0</td>\n",
       "    </tr>\n",
       "    <tr>\n",
       "      <th>2</th>\n",
       "      <td>4</td>\n",
       "      <td>132.0</td>\n",
       "      <td>5</td>\n",
       "      <td>59</td>\n",
       "      <td>75000000</td>\n",
       "      <td>1</td>\n",
       "      <td>0</td>\n",
       "      <td>0</td>\n",
       "      <td>0</td>\n",
       "      <td>0</td>\n",
       "      <td>...</td>\n",
       "      <td>0</td>\n",
       "      <td>0</td>\n",
       "      <td>0</td>\n",
       "      <td>0</td>\n",
       "      <td>0</td>\n",
       "      <td>0</td>\n",
       "      <td>0</td>\n",
       "      <td>0</td>\n",
       "      <td>0</td>\n",
       "      <td>0</td>\n",
       "    </tr>\n",
       "    <tr>\n",
       "      <th>3</th>\n",
       "      <td>2</td>\n",
       "      <td>38.0</td>\n",
       "      <td>6</td>\n",
       "      <td>8</td>\n",
       "      <td>13400000</td>\n",
       "      <td>0</td>\n",
       "      <td>0</td>\n",
       "      <td>0</td>\n",
       "      <td>0</td>\n",
       "      <td>0</td>\n",
       "      <td>...</td>\n",
       "      <td>0</td>\n",
       "      <td>0</td>\n",
       "      <td>0</td>\n",
       "      <td>0</td>\n",
       "      <td>0</td>\n",
       "      <td>0</td>\n",
       "      <td>0</td>\n",
       "      <td>0</td>\n",
       "      <td>0</td>\n",
       "      <td>0</td>\n",
       "    </tr>\n",
       "    <tr>\n",
       "      <th>4</th>\n",
       "      <td>2</td>\n",
       "      <td>84.0</td>\n",
       "      <td>5</td>\n",
       "      <td>31</td>\n",
       "      <td>35950000</td>\n",
       "      <td>0</td>\n",
       "      <td>0</td>\n",
       "      <td>0</td>\n",
       "      <td>0</td>\n",
       "      <td>0</td>\n",
       "      <td>...</td>\n",
       "      <td>0</td>\n",
       "      <td>0</td>\n",
       "      <td>0</td>\n",
       "      <td>0</td>\n",
       "      <td>0</td>\n",
       "      <td>0</td>\n",
       "      <td>0</td>\n",
       "      <td>0</td>\n",
       "      <td>0</td>\n",
       "      <td>0</td>\n",
       "    </tr>\n",
       "    <tr>\n",
       "      <th>...</th>\n",
       "      <td>...</td>\n",
       "      <td>...</td>\n",
       "      <td>...</td>\n",
       "      <td>...</td>\n",
       "      <td>...</td>\n",
       "      <td>...</td>\n",
       "      <td>...</td>\n",
       "      <td>...</td>\n",
       "      <td>...</td>\n",
       "      <td>...</td>\n",
       "      <td>...</td>\n",
       "      <td>...</td>\n",
       "      <td>...</td>\n",
       "      <td>...</td>\n",
       "      <td>...</td>\n",
       "      <td>...</td>\n",
       "      <td>...</td>\n",
       "      <td>...</td>\n",
       "      <td>...</td>\n",
       "      <td>...</td>\n",
       "      <td>...</td>\n",
       "    </tr>\n",
       "    <tr>\n",
       "      <th>973</th>\n",
       "      <td>1</td>\n",
       "      <td>34.1</td>\n",
       "      <td>8</td>\n",
       "      <td>9</td>\n",
       "      <td>9000000</td>\n",
       "      <td>0</td>\n",
       "      <td>0</td>\n",
       "      <td>0</td>\n",
       "      <td>0</td>\n",
       "      <td>0</td>\n",
       "      <td>...</td>\n",
       "      <td>0</td>\n",
       "      <td>0</td>\n",
       "      <td>0</td>\n",
       "      <td>0</td>\n",
       "      <td>0</td>\n",
       "      <td>0</td>\n",
       "      <td>0</td>\n",
       "      <td>0</td>\n",
       "      <td>0</td>\n",
       "      <td>0</td>\n",
       "    </tr>\n",
       "    <tr>\n",
       "      <th>974</th>\n",
       "      <td>3</td>\n",
       "      <td>64.0</td>\n",
       "      <td>14</td>\n",
       "      <td>14</td>\n",
       "      <td>14300000</td>\n",
       "      <td>0</td>\n",
       "      <td>0</td>\n",
       "      <td>0</td>\n",
       "      <td>1</td>\n",
       "      <td>0</td>\n",
       "      <td>...</td>\n",
       "      <td>0</td>\n",
       "      <td>0</td>\n",
       "      <td>0</td>\n",
       "      <td>0</td>\n",
       "      <td>0</td>\n",
       "      <td>0</td>\n",
       "      <td>0</td>\n",
       "      <td>0</td>\n",
       "      <td>0</td>\n",
       "      <td>0</td>\n",
       "    </tr>\n",
       "    <tr>\n",
       "      <th>975</th>\n",
       "      <td>1</td>\n",
       "      <td>31.0</td>\n",
       "      <td>3</td>\n",
       "      <td>9</td>\n",
       "      <td>8550000</td>\n",
       "      <td>1</td>\n",
       "      <td>0</td>\n",
       "      <td>0</td>\n",
       "      <td>0</td>\n",
       "      <td>1</td>\n",
       "      <td>...</td>\n",
       "      <td>0</td>\n",
       "      <td>0</td>\n",
       "      <td>0</td>\n",
       "      <td>0</td>\n",
       "      <td>0</td>\n",
       "      <td>0</td>\n",
       "      <td>0</td>\n",
       "      <td>0</td>\n",
       "      <td>0</td>\n",
       "      <td>0</td>\n",
       "    </tr>\n",
       "    <tr>\n",
       "      <th>976</th>\n",
       "      <td>1</td>\n",
       "      <td>33.0</td>\n",
       "      <td>4</td>\n",
       "      <td>5</td>\n",
       "      <td>10500000</td>\n",
       "      <td>0</td>\n",
       "      <td>0</td>\n",
       "      <td>0</td>\n",
       "      <td>0</td>\n",
       "      <td>0</td>\n",
       "      <td>...</td>\n",
       "      <td>0</td>\n",
       "      <td>0</td>\n",
       "      <td>0</td>\n",
       "      <td>0</td>\n",
       "      <td>0</td>\n",
       "      <td>0</td>\n",
       "      <td>0</td>\n",
       "      <td>0</td>\n",
       "      <td>0</td>\n",
       "      <td>0</td>\n",
       "    </tr>\n",
       "    <tr>\n",
       "      <th>977</th>\n",
       "      <td>1</td>\n",
       "      <td>33.0</td>\n",
       "      <td>1</td>\n",
       "      <td>9</td>\n",
       "      <td>12500000</td>\n",
       "      <td>0</td>\n",
       "      <td>0</td>\n",
       "      <td>0</td>\n",
       "      <td>0</td>\n",
       "      <td>0</td>\n",
       "      <td>...</td>\n",
       "      <td>0</td>\n",
       "      <td>0</td>\n",
       "      <td>0</td>\n",
       "      <td>0</td>\n",
       "      <td>0</td>\n",
       "      <td>0</td>\n",
       "      <td>0</td>\n",
       "      <td>0</td>\n",
       "      <td>0</td>\n",
       "      <td>0</td>\n",
       "    </tr>\n",
       "  </tbody>\n",
       "</table>\n",
       "<p>978 rows × 221 columns</p>\n",
       "</div>"
      ],
      "text/plain": [
       "      Number of Rooms   Square   Current Floor   Total Floors     Price  \\\n",
       "0                   4    138.0               4             59  74000000   \n",
       "1                   2     37.1               3              9  13900000   \n",
       "2                   4    132.0               5             59  75000000   \n",
       "3                   2     38.0               6              8  13400000   \n",
       "4                   2     84.0               5             31  35950000   \n",
       "..                ...      ...             ...            ...       ...   \n",
       "973                 1     34.1               8              9   9000000   \n",
       "974                 3     64.0              14             14  14300000   \n",
       "975                 1     31.0               3              9   8550000   \n",
       "976                 1     33.0               4              5  10500000   \n",
       "977                 1     33.0               1              9  12500000   \n",
       "\n",
       "     Requisites Checked  Auction  Красная  Зеленая  Синяя  ...  \\\n",
       "0                     1        0        0        0      0  ...   \n",
       "1                     0        0        0        0      0  ...   \n",
       "2                     1        0        0        0      0  ...   \n",
       "3                     0        0        0        0      0  ...   \n",
       "4                     0        0        0        0      0  ...   \n",
       "..                  ...      ...      ...      ...    ...  ...   \n",
       "973                   0        0        0        0      0  ...   \n",
       "974                   0        0        0        1      0  ...   \n",
       "975                   1        0        0        0      1  ...   \n",
       "976                   0        0        0        0      0  ...   \n",
       "977                   0        0        0        0      0  ...   \n",
       "\n",
       "     Metro_Шоссе Энтузиастов  Metro_Щукинская  Metro_Щёлковская  \\\n",
       "0                          0                0                 0   \n",
       "1                          0                0                 0   \n",
       "2                          0                0                 0   \n",
       "3                          0                0                 0   \n",
       "4                          0                0                 0   \n",
       "..                       ...              ...               ...   \n",
       "973                        0                0                 0   \n",
       "974                        0                0                 0   \n",
       "975                        0                0                 0   \n",
       "976                        0                0                 0   \n",
       "977                        0                0                 0   \n",
       "\n",
       "     Metro_Электрозаводская  Metro_Юго-Восточная  Metro_Юго-Западная  \\\n",
       "0                         0                    0                   0   \n",
       "1                         0                    0                   0   \n",
       "2                         0                    0                   0   \n",
       "3                         0                    0                   0   \n",
       "4                         0                    0                   0   \n",
       "..                      ...                  ...                 ...   \n",
       "973                       0                    0                   0   \n",
       "974                       0                    0                   0   \n",
       "975                       0                    0                   0   \n",
       "976                       0                    0                   0   \n",
       "977                       0                    0                   0   \n",
       "\n",
       "     Metro_Южная  Metro_Ясенево  Metro_р-н Северный  Metro_р-н Южное Бутово  \n",
       "0              0              0                   0                       0  \n",
       "1              0              0                   0                       0  \n",
       "2              0              0                   0                       0  \n",
       "3              0              0                   0                       0  \n",
       "4              0              0                   0                       0  \n",
       "..           ...            ...                 ...                     ...  \n",
       "973            0              0                   0                       0  \n",
       "974            0              0                   0                       0  \n",
       "975            0              0                   0                       0  \n",
       "976            0              0                   0                       0  \n",
       "977            0              0                   0                       0  \n",
       "\n",
       "[978 rows x 221 columns]"
      ]
     },
     "execution_count": 26,
     "metadata": {},
     "output_type": "execute_result"
    }
   ],
   "source": [
    "df = pd.get_dummies(df)\n",
    "df"
   ]
  },
  {
   "cell_type": "markdown",
   "id": "d8ec9096",
   "metadata": {},
   "source": [
    "На данном этапе работы не будем стандартизировать числовые признаки, так как сначала необходимо разделить выборку на train и test (дабы модель \"не подглядела\" данные из теста), что является частью уже машинного обучения. "
   ]
  },
  {
   "cell_type": "markdown",
   "id": "766a52f9",
   "metadata": {},
   "source": [
    "# Гипотезы"
   ]
  },
  {
   "cell_type": "markdown",
   "id": "635eb3c3",
   "metadata": {},
   "source": [
    "Опираясь на анализ данных, выяснили, что наибольшая корреляция с переменной «Price» наблюдается у переменной «Коричневая ветка метро» (0.254640) \n",
    "и у переменной «Голубая ветка метро» (0.150928). Поэтому хотим посмотреть, значительна ли между ними разница математических ожиданий, то есть значительна ли разница между средней ценой квартиры на данных ветках метро. \n",
    " \n",
    "H0: математическое ожидание цены квартиры на коричневой ветке метро равно математическому ожиданию цены квартиры на голубой ветке метро \n",
    " \n",
    "Н1: математическое ожидание цены квартиры на коричневой ветки метро не равно математическому ожиданию цены квартиры на голубой ветке метро \n",
    " \n",
    "Проверять гипотезы будем при уровне значимости - 5%."
   ]
  },
  {
   "cell_type": "markdown",
   "id": "8ae6b2c3",
   "metadata": {},
   "source": [
    "Предполагаемый алгоритм: \n",
    "1. Возьмем квартиры, которые расположены на голубой или на коричневой ветках метро. Разделим данные квартиры на две выборки: первая – квартиры на голубой ветке метро, вторая – квартиры на коричневой ветке метро. Предварительно мы посчитали количество квартир в каждой выборке, чтобы избежать дисбаланса в них. В итоге, в выборке коричневой ветки - 14 квартир, а в голубой – 33. Видим, дисбаланс в выборках, а главное - немного наблюдений. Следовательно, будем использовать t-статистику. \n",
    "2. Проверить независимость этих двух выборок. Выяснили, что корреляция между нашими выборками есть, но очень слабая (0.07). \n",
    "3. Рассчитываем p-value, поскольку с помощью нее сможем проверить уровень значимости не только 5%, но и другие (например, 10%). Для построения p-value необходимо найти t-статистику. Для этого считаем дисперсию по выборке, она будет оцененная, так как данных немного (47 квартир)."
   ]
  },
  {
   "cell_type": "code",
   "execution_count": 27,
   "id": "966ed1f6",
   "metadata": {},
   "outputs": [
    {
     "data": {
      "text/plain": [
       "14"
      ]
     },
     "execution_count": 27,
     "metadata": {},
     "output_type": "execute_result"
    }
   ],
   "source": [
    "df['Коричневая'].sum()"
   ]
  },
  {
   "cell_type": "code",
   "execution_count": 28,
   "id": "0e9261e6",
   "metadata": {},
   "outputs": [
    {
     "data": {
      "text/plain": [
       "33"
      ]
     },
     "execution_count": 28,
     "metadata": {},
     "output_type": "execute_result"
    }
   ],
   "source": [
    "df['Голубая'].sum()"
   ]
  },
  {
   "cell_type": "code",
   "execution_count": 29,
   "id": "1b223888",
   "metadata": {},
   "outputs": [
    {
     "data": {
      "text/plain": [
       "0.0728241104652727"
      ]
     },
     "execution_count": 29,
     "metadata": {},
     "output_type": "execute_result"
    }
   ],
   "source": [
    "df.corr()['Коричневая']['Голубая']"
   ]
  }
 ],
 "metadata": {
  "kernelspec": {
   "display_name": "Python 3 (ipykernel)",
   "language": "python",
   "name": "python3"
  },
  "language_info": {
   "codemirror_mode": {
    "name": "ipython",
    "version": 3
   },
   "file_extension": ".py",
   "mimetype": "text/x-python",
   "name": "python",
   "nbconvert_exporter": "python",
   "pygments_lexer": "ipython3",
   "version": "3.9.12"
  }
 },
 "nbformat": 4,
 "nbformat_minor": 5
}
